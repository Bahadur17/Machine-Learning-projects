{
 "cells": [
  {
   "cell_type": "markdown",
   "id": "55d0e4e5-028a-4c48-8441-3716cc73f9e0",
   "metadata": {},
   "source": [
    "# PRCP-1000-PortugeseBank"
   ]
  },
  {
   "cell_type": "raw",
   "id": "9486f443-fd0e-4bd2-89a2-65ebd61ea080",
   "metadata": {},
   "source": [
    "\n",
    "Problem Statement\n",
    "\n",
    "Task 1:-Prepare a complete data analysis report on the given data.\n",
    "\n",
    "Task 2:-Create a predictive model which will help the bank marketing team to know\n",
    "which customer will buy the product.\n",
    "\n",
    "Task3:-Suggestions to the Bank market team to make customers buy the product."
   ]
  },
  {
   "cell_type": "code",
   "execution_count": 3,
   "id": "df6ba58d-90e2-4c67-b03f-5d053f1e70c2",
   "metadata": {},
   "outputs": [],
   "source": [
    "# Importing necessary libraries\n",
    "import pandas as pd       # Data manipulation\n",
    "import numpy as np        # Numerical operations\n",
    "import seaborn as sns     # Data visualization\n",
    "import matplotlib.pyplot as plt  # Plotting\n",
    "\n",
    "from sklearn.model_selection import train_test_split  # Splitting data\n",
    "from sklearn.preprocessing import StandardScaler  # Scaling features\n",
    "from sklearn.metrics import confusion_matrix, classification_report  # Evaluation metrics\n",
    "\n",
    "from imblearn.over_sampling import SMOTE\n",
    "\n",
    "import sklearn.linear_model as lm\n",
    "from sklearn.tree import DecisionTreeClassifier\n",
    "from sklearn.ensemble import RandomForestClassifier\n",
    "from sklearn.model_selection import train_test_split, KFold, GridSearchCV, RandomizedSearchCV\n",
    "from sklearn.preprocessing import StandardScaler\n",
    "from sklearn.metrics import accuracy_score,confusion_matrix,roc_curve, auc, f1_score, precision_score, recall_score\n",
    "from sklearn.svm import SVC\n",
    "\n",
    "import warnings\n",
    "warnings.filterwarnings(\"ignore\")"
   ]
  },
  {
   "cell_type": "code",
   "execution_count": 19,
   "id": "67d01dfe-f6e8-4f2d-811c-56ebee17fb97",
   "metadata": {},
   "outputs": [],
   "source": [
    "#Reading the CSV File\n",
    "df = pd.read_csv(r\"C:\\Users\\Bahadur\\Desktop\\PROJECT.1\\bank-full.csv\", sep=';')"
   ]
  },
  {
   "cell_type": "code",
   "execution_count": 21,
   "id": "4b5b488f-7695-4715-bd9a-962acfd72e4b",
   "metadata": {},
   "outputs": [
    {
     "data": {
      "text/plain": [
       "(45211, 17)"
      ]
     },
     "execution_count": 21,
     "metadata": {},
     "output_type": "execute_result"
    }
   ],
   "source": [
    "#Shape of the dataframe\n",
    "df.shape"
   ]
  },
  {
   "cell_type": "markdown",
   "id": "dd515bb3-2ae8-4286-a268-f40cd8e35073",
   "metadata": {},
   "source": [
    "## Task 1\n",
    "## Prepare a complete data analysis report on the given data."
   ]
  },
  {
   "cell_type": "code",
   "execution_count": 23,
   "id": "2a391c10-ab07-40a0-b5fb-c1078986b2b4",
   "metadata": {},
   "outputs": [
    {
     "data": {
      "text/html": [
       "<div>\n",
       "<style scoped>\n",
       "    .dataframe tbody tr th:only-of-type {\n",
       "        vertical-align: middle;\n",
       "    }\n",
       "\n",
       "    .dataframe tbody tr th {\n",
       "        vertical-align: top;\n",
       "    }\n",
       "\n",
       "    .dataframe thead th {\n",
       "        text-align: right;\n",
       "    }\n",
       "</style>\n",
       "<table border=\"1\" class=\"dataframe\">\n",
       "  <thead>\n",
       "    <tr style=\"text-align: right;\">\n",
       "      <th></th>\n",
       "      <th>age</th>\n",
       "      <th>job</th>\n",
       "      <th>marital</th>\n",
       "      <th>education</th>\n",
       "      <th>default</th>\n",
       "      <th>balance</th>\n",
       "      <th>housing</th>\n",
       "      <th>loan</th>\n",
       "      <th>contact</th>\n",
       "      <th>day</th>\n",
       "      <th>month</th>\n",
       "      <th>duration</th>\n",
       "      <th>campaign</th>\n",
       "      <th>pdays</th>\n",
       "      <th>previous</th>\n",
       "      <th>poutcome</th>\n",
       "      <th>y</th>\n",
       "    </tr>\n",
       "  </thead>\n",
       "  <tbody>\n",
       "    <tr>\n",
       "      <th>0</th>\n",
       "      <td>58</td>\n",
       "      <td>management</td>\n",
       "      <td>married</td>\n",
       "      <td>tertiary</td>\n",
       "      <td>no</td>\n",
       "      <td>2143</td>\n",
       "      <td>yes</td>\n",
       "      <td>no</td>\n",
       "      <td>unknown</td>\n",
       "      <td>5</td>\n",
       "      <td>may</td>\n",
       "      <td>261</td>\n",
       "      <td>1</td>\n",
       "      <td>-1</td>\n",
       "      <td>0</td>\n",
       "      <td>unknown</td>\n",
       "      <td>no</td>\n",
       "    </tr>\n",
       "    <tr>\n",
       "      <th>1</th>\n",
       "      <td>44</td>\n",
       "      <td>technician</td>\n",
       "      <td>single</td>\n",
       "      <td>secondary</td>\n",
       "      <td>no</td>\n",
       "      <td>29</td>\n",
       "      <td>yes</td>\n",
       "      <td>no</td>\n",
       "      <td>unknown</td>\n",
       "      <td>5</td>\n",
       "      <td>may</td>\n",
       "      <td>151</td>\n",
       "      <td>1</td>\n",
       "      <td>-1</td>\n",
       "      <td>0</td>\n",
       "      <td>unknown</td>\n",
       "      <td>no</td>\n",
       "    </tr>\n",
       "    <tr>\n",
       "      <th>2</th>\n",
       "      <td>33</td>\n",
       "      <td>entrepreneur</td>\n",
       "      <td>married</td>\n",
       "      <td>secondary</td>\n",
       "      <td>no</td>\n",
       "      <td>2</td>\n",
       "      <td>yes</td>\n",
       "      <td>yes</td>\n",
       "      <td>unknown</td>\n",
       "      <td>5</td>\n",
       "      <td>may</td>\n",
       "      <td>76</td>\n",
       "      <td>1</td>\n",
       "      <td>-1</td>\n",
       "      <td>0</td>\n",
       "      <td>unknown</td>\n",
       "      <td>no</td>\n",
       "    </tr>\n",
       "    <tr>\n",
       "      <th>3</th>\n",
       "      <td>47</td>\n",
       "      <td>blue-collar</td>\n",
       "      <td>married</td>\n",
       "      <td>unknown</td>\n",
       "      <td>no</td>\n",
       "      <td>1506</td>\n",
       "      <td>yes</td>\n",
       "      <td>no</td>\n",
       "      <td>unknown</td>\n",
       "      <td>5</td>\n",
       "      <td>may</td>\n",
       "      <td>92</td>\n",
       "      <td>1</td>\n",
       "      <td>-1</td>\n",
       "      <td>0</td>\n",
       "      <td>unknown</td>\n",
       "      <td>no</td>\n",
       "    </tr>\n",
       "    <tr>\n",
       "      <th>4</th>\n",
       "      <td>33</td>\n",
       "      <td>unknown</td>\n",
       "      <td>single</td>\n",
       "      <td>unknown</td>\n",
       "      <td>no</td>\n",
       "      <td>1</td>\n",
       "      <td>no</td>\n",
       "      <td>no</td>\n",
       "      <td>unknown</td>\n",
       "      <td>5</td>\n",
       "      <td>may</td>\n",
       "      <td>198</td>\n",
       "      <td>1</td>\n",
       "      <td>-1</td>\n",
       "      <td>0</td>\n",
       "      <td>unknown</td>\n",
       "      <td>no</td>\n",
       "    </tr>\n",
       "  </tbody>\n",
       "</table>\n",
       "</div>"
      ],
      "text/plain": [
       "   age           job  marital  education default  balance housing loan  \\\n",
       "0   58    management  married   tertiary      no     2143     yes   no   \n",
       "1   44    technician   single  secondary      no       29     yes   no   \n",
       "2   33  entrepreneur  married  secondary      no        2     yes  yes   \n",
       "3   47   blue-collar  married    unknown      no     1506     yes   no   \n",
       "4   33       unknown   single    unknown      no        1      no   no   \n",
       "\n",
       "   contact  day month  duration  campaign  pdays  previous poutcome   y  \n",
       "0  unknown    5   may       261         1     -1         0  unknown  no  \n",
       "1  unknown    5   may       151         1     -1         0  unknown  no  \n",
       "2  unknown    5   may        76         1     -1         0  unknown  no  \n",
       "3  unknown    5   may        92         1     -1         0  unknown  no  \n",
       "4  unknown    5   may       198         1     -1         0  unknown  no  "
      ]
     },
     "execution_count": 23,
     "metadata": {},
     "output_type": "execute_result"
    }
   ],
   "source": [
    "#Displaying first 5 rows\n",
    "df.head()"
   ]
  },
  {
   "cell_type": "code",
   "execution_count": 25,
   "id": "aaca7363-196b-4aea-b67b-0d2673ecca6b",
   "metadata": {},
   "outputs": [
    {
     "data": {
      "text/html": [
       "<div>\n",
       "<style scoped>\n",
       "    .dataframe tbody tr th:only-of-type {\n",
       "        vertical-align: middle;\n",
       "    }\n",
       "\n",
       "    .dataframe tbody tr th {\n",
       "        vertical-align: top;\n",
       "    }\n",
       "\n",
       "    .dataframe thead th {\n",
       "        text-align: right;\n",
       "    }\n",
       "</style>\n",
       "<table border=\"1\" class=\"dataframe\">\n",
       "  <thead>\n",
       "    <tr style=\"text-align: right;\">\n",
       "      <th></th>\n",
       "      <th>age</th>\n",
       "      <th>job</th>\n",
       "      <th>marital</th>\n",
       "      <th>education</th>\n",
       "      <th>default</th>\n",
       "      <th>balance</th>\n",
       "      <th>housing</th>\n",
       "      <th>loan</th>\n",
       "      <th>contact</th>\n",
       "      <th>day</th>\n",
       "      <th>month</th>\n",
       "      <th>duration</th>\n",
       "      <th>campaign</th>\n",
       "      <th>pdays</th>\n",
       "      <th>previous</th>\n",
       "      <th>poutcome</th>\n",
       "      <th>y</th>\n",
       "    </tr>\n",
       "  </thead>\n",
       "  <tbody>\n",
       "    <tr>\n",
       "      <th>45206</th>\n",
       "      <td>51</td>\n",
       "      <td>technician</td>\n",
       "      <td>married</td>\n",
       "      <td>tertiary</td>\n",
       "      <td>no</td>\n",
       "      <td>825</td>\n",
       "      <td>no</td>\n",
       "      <td>no</td>\n",
       "      <td>cellular</td>\n",
       "      <td>17</td>\n",
       "      <td>nov</td>\n",
       "      <td>977</td>\n",
       "      <td>3</td>\n",
       "      <td>-1</td>\n",
       "      <td>0</td>\n",
       "      <td>unknown</td>\n",
       "      <td>yes</td>\n",
       "    </tr>\n",
       "    <tr>\n",
       "      <th>45207</th>\n",
       "      <td>71</td>\n",
       "      <td>retired</td>\n",
       "      <td>divorced</td>\n",
       "      <td>primary</td>\n",
       "      <td>no</td>\n",
       "      <td>1729</td>\n",
       "      <td>no</td>\n",
       "      <td>no</td>\n",
       "      <td>cellular</td>\n",
       "      <td>17</td>\n",
       "      <td>nov</td>\n",
       "      <td>456</td>\n",
       "      <td>2</td>\n",
       "      <td>-1</td>\n",
       "      <td>0</td>\n",
       "      <td>unknown</td>\n",
       "      <td>yes</td>\n",
       "    </tr>\n",
       "    <tr>\n",
       "      <th>45208</th>\n",
       "      <td>72</td>\n",
       "      <td>retired</td>\n",
       "      <td>married</td>\n",
       "      <td>secondary</td>\n",
       "      <td>no</td>\n",
       "      <td>5715</td>\n",
       "      <td>no</td>\n",
       "      <td>no</td>\n",
       "      <td>cellular</td>\n",
       "      <td>17</td>\n",
       "      <td>nov</td>\n",
       "      <td>1127</td>\n",
       "      <td>5</td>\n",
       "      <td>184</td>\n",
       "      <td>3</td>\n",
       "      <td>success</td>\n",
       "      <td>yes</td>\n",
       "    </tr>\n",
       "    <tr>\n",
       "      <th>45209</th>\n",
       "      <td>57</td>\n",
       "      <td>blue-collar</td>\n",
       "      <td>married</td>\n",
       "      <td>secondary</td>\n",
       "      <td>no</td>\n",
       "      <td>668</td>\n",
       "      <td>no</td>\n",
       "      <td>no</td>\n",
       "      <td>telephone</td>\n",
       "      <td>17</td>\n",
       "      <td>nov</td>\n",
       "      <td>508</td>\n",
       "      <td>4</td>\n",
       "      <td>-1</td>\n",
       "      <td>0</td>\n",
       "      <td>unknown</td>\n",
       "      <td>no</td>\n",
       "    </tr>\n",
       "    <tr>\n",
       "      <th>45210</th>\n",
       "      <td>37</td>\n",
       "      <td>entrepreneur</td>\n",
       "      <td>married</td>\n",
       "      <td>secondary</td>\n",
       "      <td>no</td>\n",
       "      <td>2971</td>\n",
       "      <td>no</td>\n",
       "      <td>no</td>\n",
       "      <td>cellular</td>\n",
       "      <td>17</td>\n",
       "      <td>nov</td>\n",
       "      <td>361</td>\n",
       "      <td>2</td>\n",
       "      <td>188</td>\n",
       "      <td>11</td>\n",
       "      <td>other</td>\n",
       "      <td>no</td>\n",
       "    </tr>\n",
       "  </tbody>\n",
       "</table>\n",
       "</div>"
      ],
      "text/plain": [
       "       age           job   marital  education default  balance housing loan  \\\n",
       "45206   51    technician   married   tertiary      no      825      no   no   \n",
       "45207   71       retired  divorced    primary      no     1729      no   no   \n",
       "45208   72       retired   married  secondary      no     5715      no   no   \n",
       "45209   57   blue-collar   married  secondary      no      668      no   no   \n",
       "45210   37  entrepreneur   married  secondary      no     2971      no   no   \n",
       "\n",
       "         contact  day month  duration  campaign  pdays  previous poutcome    y  \n",
       "45206   cellular   17   nov       977         3     -1         0  unknown  yes  \n",
       "45207   cellular   17   nov       456         2     -1         0  unknown  yes  \n",
       "45208   cellular   17   nov      1127         5    184         3  success  yes  \n",
       "45209  telephone   17   nov       508         4     -1         0  unknown   no  \n",
       "45210   cellular   17   nov       361         2    188        11    other   no  "
      ]
     },
     "execution_count": 25,
     "metadata": {},
     "output_type": "execute_result"
    }
   ],
   "source": [
    "#Displaying last 5 rows\n",
    "df.tail()"
   ]
  },
  {
   "cell_type": "markdown",
   "id": "49f3820b-74ea-4a37-8b11-e048b44c6f60",
   "metadata": {},
   "source": [
    "# **DOMAIN ANALYSIS**\n",
    "This database is about the direct phone call marketing campaigns, which aim to promote term deposits among existing customers, by a Portuguese banking institution from March 2008 to November 2010 which will help the bank marketing team to know which customer will buy the product.Our main objective is to predict potential customer who is likely to buy the product which will help the bank marketing team increase the sales using the given 21 feature.\n",
    "\n",
    "## DEMOGRAPHIC INFORMATION\n",
    "1)AGE:\n",
    "This is the age of the customers.Understanding the age distribution helps target specific age groups for term deposits.\n",
    "\n",
    "2)JOB:\n",
    "The type of job of the customers.The occupation of the customer, which can influence income level, financial stability, and investment habits. Certain jobs might correlate with a higher likelihood of subscribing to term deposits. For example, professionals or retired individuals might show different patterns compared to blue-collar workers.\n",
    "\n",
    "3)MARITAL:\n",
    "marital statuss of the customers.Marital status, which could reflect the customer’s stage in life, financial responsibilities, and long-term saving goals.Married customers might have different financial goals compared to single or divorced customers. This could affect their likelihood to invest in products like term deposits.\n",
    "\n",
    "4)EDUCATION: \n",
    "Educational background of the customers.Educational background can influence financial literacy and the likelihood of subscribing to complex financial products like term deposits.Higher education may correlate with a better understanding of financial products, making certain segments more likely to subscribe.\n",
    "\n",
    "## FINANCIAL INFORMATION\n",
    "\n",
    "5)DEFAULT:\n",
    "This shows customers information whether they hdave ef not.Indicates whether the customer has credit in default, which reflects the customer’s financial health and credit risk.Customers in default might be less likely to subscribe to new financial products, as they are already in a financially constrained position.\n",
    "\n",
    "6)HOUSEING\n",
    "This has customers information whether they  home loan or not.This reflects the customer’s existing financial commitments and priorities.Customers with housing loans might have different savings or investment behaviors. They may prioritize paying off loans over subscribing to new financial products.\n",
    "\n",
    "7)LOAN:\n",
    "Customers information whether they personal loan or not. not.Indicates whether the customer has a personal loan, another sign of financial obligations.Similar to housing loans, personal loans can impact a customer’s likelihood to invest in additional financial product."
   ]
  },
  {
   "cell_type": "markdown",
   "id": "a3a8fa95-4f70-4a2a-9d81-75ccbf96e7ca",
   "metadata": {},
   "source": [
    "##  Related with the last contact of current campaign\n",
    "\n",
    "8)CONTACT:\n",
    "This has type of communication channel used (cellular or telephone).The effectiveness of the communication channel might vary. For example, mobile phone contacts could yield higher success rates if the customers are more respone.\n",
    "\n",
    "9)MONTH:\n",
    "The last contacted month of the year. Campaign timing may influence success due to seasonal effects.Certain months might yield better results depending on economic conditions or customer behavior (e.g., end of the financial year when people receive bonus.\n",
    "\n",
    "10)DAY OF THE WEEK:\n",
    "The day of the week when the contact was made. Timing during the week can affect customer receptivity.Different days may show varied response rates based on customer availability or mindset (e.g., customers might be more receptive on weekends or specific week.\n",
    "\n",
    "11)DURATION:\n",
    "The duration of the last contact in seconds, which may indicate customer interest.Longer calls might indicate higher customer engagement, but this variable is tricky as it can’t be known before the call is made.this attribute higly affects output variable y.Also, after the end of the call y is obviously known.Thus, this input should only be included for beochmark.\n",
    "\n",
    "12)CAMPAIGN:\n",
    "The number of contacts performed during this campaign for the customer.This provides insights into the customer’s engagement and the bank’s persistence. More contacts maythe likelihood of a response but could also lead to diminishing returns or customer fatigue.\n",
    "\n",
    "13)PDAYS:\n",
    "The number of days since the client was last contacted in a previous campaign.A value of 999 means the customer wasn’t previously contacted.Customers contacted recently might recall previous interactions and respond differently compared to those contacted a long time ago or never before.\n",
    "\n",
    "14)PREVIOUS\n",
    "The number of contacts performed before the current campaign.This helps track customer engagement across campaigns. Higher values could indicate either persistent interest or annoyance.\n",
    "\n",
    "15)POUTCOME:\n",
    "The outcome of the previous campaign (failure, nonexistent, or success).If a customer previously subscribed after a campaign, they might be more likely to do so again. Conversely, a past failure could suggest the customer is hardly interested."
   ]
  },
  {
   "cell_type": "markdown",
   "id": "9ed2b5ef-c318-4e6f-8c9c-2848dd397793",
   "metadata": {},
   "source": [
    "## SOCIAL AND ECONOMICAL FEATURES\n",
    "\n",
    "16)EMP.VAR.RATE:\n",
    "The employment variation rate, a quarterly indicator that shows economic health.A stronger job market may lead to more subscriptions, as customers feel more financially secure.\n",
    "\n",
    "17)CONS.PRICE.IDX:\n",
    "The consumer price index, a monthly indicator of inflation.Higher inflation could affect customers' decisions to invest in long-term financial products like term deposits.\n",
    "\n",
    "18)CONS.CONF.IDX:\n",
    "The consumer confidence index, which reflects consumer sentiment regarding economic conditions.If consumer confidence is high, customers might be more willing to commit to term deposits.\n",
    "\n",
    "19)EURIBOR3M:\n",
    "The 3-month Euribor rate, a key interest rate that reflects short-term European money market trends.Changes in interest rates can significantly affect customer behavior toward saving and investing. Higher rates might encourage more customers to lock in favorable terms deposits.\n",
    "\n",
    "20)NR.EMPLOYEED:\n",
    "The number of employees, another quarterly economic indicator.A larger workforce suggests a strong economy, potentially leading to more positive responses to the marketing."
   ]
  },
  {
   "cell_type": "markdown",
   "id": "7db79d83-50c3-465b-b0db-5928429641fb",
   "metadata": {},
   "source": [
    "## TARGET VARIABLE\n",
    "21)Y:\n",
    "Whether the customer subscribed to a term deposit. This is the target variable the model is designed to predict.The key metric to be analyzed. Patterns and relationships between this variable and the inputs are critical to understanding customer behavior and improving campaign."
   ]
  },
  {
   "cell_type": "code",
   "execution_count": 31,
   "id": "7d8db48b-aac2-46b1-951b-2907d5296b11",
   "metadata": {},
   "outputs": [
    {
     "name": "stdout",
     "output_type": "stream",
     "text": [
      "<class 'pandas.core.frame.DataFrame'>\n",
      "RangeIndex: 45211 entries, 0 to 45210\n",
      "Data columns (total 17 columns):\n",
      " #   Column     Non-Null Count  Dtype \n",
      "---  ------     --------------  ----- \n",
      " 0   age        45211 non-null  int64 \n",
      " 1   job        45211 non-null  object\n",
      " 2   marital    45211 non-null  object\n",
      " 3   education  45211 non-null  object\n",
      " 4   default    45211 non-null  object\n",
      " 5   balance    45211 non-null  int64 \n",
      " 6   housing    45211 non-null  object\n",
      " 7   loan       45211 non-null  object\n",
      " 8   contact    45211 non-null  object\n",
      " 9   day        45211 non-null  int64 \n",
      " 10  month      45211 non-null  object\n",
      " 11  duration   45211 non-null  int64 \n",
      " 12  campaign   45211 non-null  int64 \n",
      " 13  pdays      45211 non-null  int64 \n",
      " 14  previous   45211 non-null  int64 \n",
      " 15  poutcome   45211 non-null  object\n",
      " 16  y          45211 non-null  object\n",
      "dtypes: int64(7), object(10)\n",
      "memory usage: 5.9+ MB\n"
     ]
    }
   ],
   "source": [
    "#Getting info \n",
    "df.info()"
   ]
  },
  {
   "cell_type": "code",
   "execution_count": 33,
   "id": "e983dd21-7cb4-4a8a-a0fb-a1f10ba12862",
   "metadata": {},
   "outputs": [
    {
     "data": {
      "text/plain": [
       "Index(['age', 'job', 'marital', 'education', 'default', 'balance', 'housing',\n",
       "       'loan', 'contact', 'day', 'month', 'duration', 'campaign', 'pdays',\n",
       "       'previous', 'poutcome', 'y'],\n",
       "      dtype='object')"
      ]
     },
     "execution_count": 33,
     "metadata": {},
     "output_type": "execute_result"
    }
   ],
   "source": [
    "#column names\n",
    "df.columns"
   ]
  },
  {
   "cell_type": "code",
   "execution_count": 35,
   "id": "09bb1752-4270-4237-bef6-3d4efa261c1b",
   "metadata": {},
   "outputs": [
    {
     "data": {
      "text/html": [
       "<div>\n",
       "<style scoped>\n",
       "    .dataframe tbody tr th:only-of-type {\n",
       "        vertical-align: middle;\n",
       "    }\n",
       "\n",
       "    .dataframe tbody tr th {\n",
       "        vertical-align: top;\n",
       "    }\n",
       "\n",
       "    .dataframe thead th {\n",
       "        text-align: right;\n",
       "    }\n",
       "</style>\n",
       "<table border=\"1\" class=\"dataframe\">\n",
       "  <thead>\n",
       "    <tr style=\"text-align: right;\">\n",
       "      <th></th>\n",
       "      <th>count</th>\n",
       "      <th>mean</th>\n",
       "      <th>std</th>\n",
       "      <th>min</th>\n",
       "      <th>25%</th>\n",
       "      <th>50%</th>\n",
       "      <th>75%</th>\n",
       "      <th>max</th>\n",
       "    </tr>\n",
       "  </thead>\n",
       "  <tbody>\n",
       "    <tr>\n",
       "      <th>age</th>\n",
       "      <td>45211.0</td>\n",
       "      <td>40.936210</td>\n",
       "      <td>10.618762</td>\n",
       "      <td>18.0</td>\n",
       "      <td>33.0</td>\n",
       "      <td>39.0</td>\n",
       "      <td>48.0</td>\n",
       "      <td>95.0</td>\n",
       "    </tr>\n",
       "    <tr>\n",
       "      <th>balance</th>\n",
       "      <td>45211.0</td>\n",
       "      <td>1362.272058</td>\n",
       "      <td>3044.765829</td>\n",
       "      <td>-8019.0</td>\n",
       "      <td>72.0</td>\n",
       "      <td>448.0</td>\n",
       "      <td>1428.0</td>\n",
       "      <td>102127.0</td>\n",
       "    </tr>\n",
       "    <tr>\n",
       "      <th>day</th>\n",
       "      <td>45211.0</td>\n",
       "      <td>15.806419</td>\n",
       "      <td>8.322476</td>\n",
       "      <td>1.0</td>\n",
       "      <td>8.0</td>\n",
       "      <td>16.0</td>\n",
       "      <td>21.0</td>\n",
       "      <td>31.0</td>\n",
       "    </tr>\n",
       "    <tr>\n",
       "      <th>duration</th>\n",
       "      <td>45211.0</td>\n",
       "      <td>258.163080</td>\n",
       "      <td>257.527812</td>\n",
       "      <td>0.0</td>\n",
       "      <td>103.0</td>\n",
       "      <td>180.0</td>\n",
       "      <td>319.0</td>\n",
       "      <td>4918.0</td>\n",
       "    </tr>\n",
       "    <tr>\n",
       "      <th>campaign</th>\n",
       "      <td>45211.0</td>\n",
       "      <td>2.763841</td>\n",
       "      <td>3.098021</td>\n",
       "      <td>1.0</td>\n",
       "      <td>1.0</td>\n",
       "      <td>2.0</td>\n",
       "      <td>3.0</td>\n",
       "      <td>63.0</td>\n",
       "    </tr>\n",
       "    <tr>\n",
       "      <th>pdays</th>\n",
       "      <td>45211.0</td>\n",
       "      <td>40.197828</td>\n",
       "      <td>100.128746</td>\n",
       "      <td>-1.0</td>\n",
       "      <td>-1.0</td>\n",
       "      <td>-1.0</td>\n",
       "      <td>-1.0</td>\n",
       "      <td>871.0</td>\n",
       "    </tr>\n",
       "    <tr>\n",
       "      <th>previous</th>\n",
       "      <td>45211.0</td>\n",
       "      <td>0.580323</td>\n",
       "      <td>2.303441</td>\n",
       "      <td>0.0</td>\n",
       "      <td>0.0</td>\n",
       "      <td>0.0</td>\n",
       "      <td>0.0</td>\n",
       "      <td>275.0</td>\n",
       "    </tr>\n",
       "  </tbody>\n",
       "</table>\n",
       "</div>"
      ],
      "text/plain": [
       "            count         mean          std     min    25%    50%     75%  \\\n",
       "age       45211.0    40.936210    10.618762    18.0   33.0   39.0    48.0   \n",
       "balance   45211.0  1362.272058  3044.765829 -8019.0   72.0  448.0  1428.0   \n",
       "day       45211.0    15.806419     8.322476     1.0    8.0   16.0    21.0   \n",
       "duration  45211.0   258.163080   257.527812     0.0  103.0  180.0   319.0   \n",
       "campaign  45211.0     2.763841     3.098021     1.0    1.0    2.0     3.0   \n",
       "pdays     45211.0    40.197828   100.128746    -1.0   -1.0   -1.0    -1.0   \n",
       "previous  45211.0     0.580323     2.303441     0.0    0.0    0.0     0.0   \n",
       "\n",
       "               max  \n",
       "age           95.0  \n",
       "balance   102127.0  \n",
       "day           31.0  \n",
       "duration    4918.0  \n",
       "campaign      63.0  \n",
       "pdays        871.0  \n",
       "previous     275.0  "
      ]
     },
     "execution_count": 35,
     "metadata": {},
     "output_type": "execute_result"
    }
   ],
   "source": [
    "#Description of numerical columns\n",
    "df.describe().T"
   ]
  },
  {
   "cell_type": "code",
   "execution_count": 37,
   "id": "2f174508-568c-49a8-b642-65638877f34b",
   "metadata": {},
   "outputs": [
    {
     "data": {
      "text/html": [
       "<div>\n",
       "<style scoped>\n",
       "    .dataframe tbody tr th:only-of-type {\n",
       "        vertical-align: middle;\n",
       "    }\n",
       "\n",
       "    .dataframe tbody tr th {\n",
       "        vertical-align: top;\n",
       "    }\n",
       "\n",
       "    .dataframe thead th {\n",
       "        text-align: right;\n",
       "    }\n",
       "</style>\n",
       "<table border=\"1\" class=\"dataframe\">\n",
       "  <thead>\n",
       "    <tr style=\"text-align: right;\">\n",
       "      <th></th>\n",
       "      <th>count</th>\n",
       "      <th>unique</th>\n",
       "      <th>top</th>\n",
       "      <th>freq</th>\n",
       "    </tr>\n",
       "  </thead>\n",
       "  <tbody>\n",
       "    <tr>\n",
       "      <th>job</th>\n",
       "      <td>45211</td>\n",
       "      <td>12</td>\n",
       "      <td>blue-collar</td>\n",
       "      <td>9732</td>\n",
       "    </tr>\n",
       "    <tr>\n",
       "      <th>marital</th>\n",
       "      <td>45211</td>\n",
       "      <td>3</td>\n",
       "      <td>married</td>\n",
       "      <td>27214</td>\n",
       "    </tr>\n",
       "    <tr>\n",
       "      <th>education</th>\n",
       "      <td>45211</td>\n",
       "      <td>4</td>\n",
       "      <td>secondary</td>\n",
       "      <td>23202</td>\n",
       "    </tr>\n",
       "    <tr>\n",
       "      <th>default</th>\n",
       "      <td>45211</td>\n",
       "      <td>2</td>\n",
       "      <td>no</td>\n",
       "      <td>44396</td>\n",
       "    </tr>\n",
       "    <tr>\n",
       "      <th>housing</th>\n",
       "      <td>45211</td>\n",
       "      <td>2</td>\n",
       "      <td>yes</td>\n",
       "      <td>25130</td>\n",
       "    </tr>\n",
       "    <tr>\n",
       "      <th>loan</th>\n",
       "      <td>45211</td>\n",
       "      <td>2</td>\n",
       "      <td>no</td>\n",
       "      <td>37967</td>\n",
       "    </tr>\n",
       "    <tr>\n",
       "      <th>contact</th>\n",
       "      <td>45211</td>\n",
       "      <td>3</td>\n",
       "      <td>cellular</td>\n",
       "      <td>29285</td>\n",
       "    </tr>\n",
       "    <tr>\n",
       "      <th>month</th>\n",
       "      <td>45211</td>\n",
       "      <td>12</td>\n",
       "      <td>may</td>\n",
       "      <td>13766</td>\n",
       "    </tr>\n",
       "    <tr>\n",
       "      <th>poutcome</th>\n",
       "      <td>45211</td>\n",
       "      <td>4</td>\n",
       "      <td>unknown</td>\n",
       "      <td>36959</td>\n",
       "    </tr>\n",
       "    <tr>\n",
       "      <th>y</th>\n",
       "      <td>45211</td>\n",
       "      <td>2</td>\n",
       "      <td>no</td>\n",
       "      <td>39922</td>\n",
       "    </tr>\n",
       "  </tbody>\n",
       "</table>\n",
       "</div>"
      ],
      "text/plain": [
       "           count unique          top   freq\n",
       "job        45211     12  blue-collar   9732\n",
       "marital    45211      3      married  27214\n",
       "education  45211      4    secondary  23202\n",
       "default    45211      2           no  44396\n",
       "housing    45211      2          yes  25130\n",
       "loan       45211      2           no  37967\n",
       "contact    45211      3     cellular  29285\n",
       "month      45211     12          may  13766\n",
       "poutcome   45211      4      unknown  36959\n",
       "y          45211      2           no  39922"
      ]
     },
     "execution_count": 37,
     "metadata": {},
     "output_type": "execute_result"
    }
   ],
   "source": [
    "#Description of categorical columns\n",
    "df.describe(include='object').T"
   ]
  },
  {
   "cell_type": "markdown",
   "id": "f9f3ae57-5a8e-4f17-be15-fe837d8ad813",
   "metadata": {},
   "source": [
    "# INSIGHTS\n",
    "\n",
    "1) The dataset is customers dataset for potential customers of term deposits with  **41188 datapoints having 21 features** including target variable.\n",
    "\n",
    "2) Dataset having both **numerical(10) as well as categorical values(11)** with some unknown values is there in \"job\", \"marital\", \"default\", \"education\", \"housing\", \"loan\" columns and **no null values**.\n",
    "\n",
    "3) The maximum age of the customers is **98**, where as minimum is 17.\n",
    "\n",
    "4) The maximum duration of the call of the customers is **4918** seconds, where as minimum is **0** seconds.\n",
    "\n",
    "5) Most of the customers have **university degree** education.\n",
    "   \n",
    "6) Most of the customers have been contacted through **cellular** and most customers have picked the calls on **thursday**."
   ]
  },
  {
   "cell_type": "code",
   "execution_count": 40,
   "id": "8dae3a13-1c4b-45c2-be8c-1a7b3825a1ee",
   "metadata": {},
   "outputs": [
    {
     "data": {
      "text/plain": [
       "age          0.0\n",
       "job          0.0\n",
       "marital      0.0\n",
       "education    0.0\n",
       "default      0.0\n",
       "balance      0.0\n",
       "housing      0.0\n",
       "loan         0.0\n",
       "contact      0.0\n",
       "day          0.0\n",
       "month        0.0\n",
       "duration     0.0\n",
       "campaign     0.0\n",
       "pdays        0.0\n",
       "previous     0.0\n",
       "poutcome     0.0\n",
       "y            0.0\n",
       "dtype: float64"
      ]
     },
     "execution_count": 40,
     "metadata": {},
     "output_type": "execute_result"
    }
   ],
   "source": [
    "#checking for null values\n",
    "df.isnull().sum()/len(df)*100"
   ]
  },
  {
   "cell_type": "code",
   "execution_count": 42,
   "id": "06c5f940-f0e2-49d0-8df6-b4374ac1a9eb",
   "metadata": {},
   "outputs": [
    {
     "name": "stdout",
     "output_type": "stream",
     "text": [
      "age              0\n",
      "job            288\n",
      "marital          0\n",
      "education     1857\n",
      "default          0\n",
      "balance          0\n",
      "housing          0\n",
      "loan             0\n",
      "contact      13020\n",
      "day              0\n",
      "month            0\n",
      "duration         0\n",
      "campaign         0\n",
      "pdays            0\n",
      "previous         0\n",
      "poutcome     36959\n",
      "y                0\n",
      "dtype: int64\n"
     ]
    }
   ],
   "source": [
    "# Counting 'unknown' values which are considered as missing in the dataset\n",
    "print((df == 'unknown').sum())"
   ]
  },
  {
   "cell_type": "code",
   "execution_count": 44,
   "id": "ed78e14a-eba9-46f4-8bfa-5af6d5e904c4",
   "metadata": {},
   "outputs": [
    {
     "name": "stdout",
     "output_type": "stream",
     "text": [
      "poutcome     36959\n",
      "contact      13020\n",
      "education     1857\n",
      "job            288\n",
      "dtype: int64\n"
     ]
    }
   ],
   "source": [
    "#Checking unknown values in Ascending order for better understanding\n",
    "unknown_summary = df.apply(lambda x: x[x == 'unknown'].count())\n",
    "unknown_summary = unknown_summary[unknown_summary > 0].sort_values(ascending=False)\n",
    "print(unknown_summary)"
   ]
  },
  {
   "cell_type": "code",
   "execution_count": 46,
   "id": "680050f0-664c-4ef6-9308-9d246dd97f28",
   "metadata": {},
   "outputs": [
    {
     "data": {
      "image/png": "[encoded data removed]",
      "text/plain": [
       "<Figure size 640x480 with 1 Axes>"
      ]
     },
     "metadata": {},
     "output_type": "display_data"
    }
   ],
   "source": [
    "# Visualizing the distribution of 'unknown' values across columns\n",
    "sns.barplot(x=unknown_summary.index, y=unknown_summary.values)\n",
    "plt.xticks(rotation=90)\n",
    "plt.title('Number of Unknown Values per Column')\n",
    "plt.show()"
   ]
  },
  {
   "cell_type": "code",
   "execution_count": 47,
   "id": "d110df45-b8af-479b-8d89-24c9670126e9",
   "metadata": {},
   "outputs": [
    {
     "name": "stdout",
     "output_type": "stream",
     "text": [
      "y\n",
      "no     0.883015\n",
      "yes    0.116985\n",
      "Name: proportion, dtype: float64\n"
     ]
    }
   ],
   "source": [
    "# Checking the distribution of the target variable\n",
    "print(df['y'].value_counts(normalize=True))"
   ]
  },
  {
   "cell_type": "code",
   "execution_count": 50,
   "id": "e09b979e-870c-40c3-a8c6-51411621b5ab",
   "metadata": {},
   "outputs": [
    {
     "data": {
      "text/plain": [
       "<Axes: xlabel='y', ylabel='count'>"
      ]
     },
     "execution_count": 50,
     "metadata": {},
     "output_type": "execute_result"
    },
    {
     "data": {
      "image/png": "[encoded data removed]",
      "text/plain": [
       "<Figure size 640x480 with 1 Axes>"
      ]
     },
     "metadata": {},
     "output_type": "display_data"
    }
   ],
   "source": [
    "#Visualising the target variable\n",
    "sns.countplot(data=df, x='y')"
   ]
  },
  {
   "cell_type": "code",
   "execution_count": 51,
   "id": "7a593450-a1f5-40f7-bfb4-db8ebeb204dc",
   "metadata": {},
   "outputs": [],
   "source": [
    "# Converting the target variable 'y' to binary (0/1)\n",
    "df['y'] = df['y'].apply(lambda x: 1 if x == 'yes' else 0)"
   ]
  },
  {
   "cell_type": "markdown",
   "id": "777d9db9-6ca9-478c-ba44-bed495181cb5",
   "metadata": {},
   "source": [
    "# EDA"
   ]
  },
  {
   "cell_type": "markdown",
   "id": "ef826cbc-7d91-4de7-8061-d7a1daf0549e",
   "metadata": {},
   "source": [
    "## AGE"
   ]
  },
  {
   "cell_type": "code",
   "execution_count": 56,
   "id": "d653c90b-9bff-4c3b-8893-81d5ac58a525",
   "metadata": {},
   "outputs": [
    {
     "data": {
      "image/png": "[encoded data removed]",
      "text/plain": [
       "<Figure size 1300x500 with 2 Axes>"
      ]
     },
     "metadata": {},
     "output_type": "display_data"
    }
   ],
   "source": [
    "#Visualising age\n",
    "sfig, (ax1, ax2) = plt.subplots(nrows = 1, ncols = 2, figsize = (13, 5))\n",
    "sns.boxplot(x = 'age', data = df, orient = 'v', ax = ax1)\n",
    "ax1.set_xlabel('People Age', fontsize=15)\n",
    "ax1.set_ylabel('Age', fontsize=15)\n",
    "ax1.set_title('Age Distribution', fontsize=15)\n",
    "ax1.tick_params(labelsize=15)\n",
    "\n",
    "sns.histplot(df['age'], kde=True, ax = ax2)\n",
    "sns.despine(ax = ax2)\n",
    "ax2.set_xlabel('Age', fontsize=15)\n",
    "ax2.set_ylabel('Occurence', fontsize=15)\n",
    "ax2.set_title('Age x Ocucurence', fontsize=15)\n",
    "ax2.tick_params(labelsize=15)\n",
    "\n",
    "plt.subplots_adjust(wspace=0.5)\n",
    "plt.tight_layout() "
   ]
  },
  {
   "cell_type": "code",
   "execution_count": 57,
   "id": "f95f2d9c-9457-4404-9ecd-abd9d05c9175",
   "metadata": {},
   "outputs": [
    {
     "name": "stdout",
     "output_type": "stream",
     "text": [
      "Min age:  18\n",
      "Max age:  95\n",
      "Null Values:  False\n"
     ]
    }
   ],
   "source": [
    "#Info about Age Distribution\n",
    "print('Min age: ', df['age'].min())\n",
    "print('Max age: ', df['age'].max())\n",
    "print('Null Values: ', df['age'].isnull().any())"
   ]
  },
  {
   "cell_type": "code",
   "execution_count": 58,
   "id": "5dca61b4-1552-4b4b-a761-5ccc1f5743ba",
   "metadata": {},
   "outputs": [
    {
     "name": "stdout",
     "output_type": "stream",
     "text": [
      "1º Quartile:  33.0\n",
      "2º Quartile:  39.0\n",
      "3º Quartile:  48.0\n",
      "4º Quartile:  95.0\n",
      "Ages above:  70.5 are outliers\n"
     ]
    }
   ],
   "source": [
    "# Quartiles\n",
    "print('1º Quartile: ', df['age'].quantile(q = 0.25))\n",
    "print('2º Quartile: ', df['age'].quantile(q = 0.50))\n",
    "print('3º Quartile: ', df['age'].quantile(q = 0.75))\n",
    "print('4º Quartile: ', df['age'].quantile(q = 1.00))\n",
    "#Calculate the outliers:\n",
    "  # Interquartile range, IQR = Q3 - Q1\n",
    "  # lower 1.5*IQR whisker = Q1 - 1.5 * IQR \n",
    "  # Upper 1.5*IQR whisker = Q3 + 1.5 * IQR\n",
    "    \n",
    "print('Ages above: ', df['age'].quantile(q = 0.75) + \n",
    "                      1.5*(df['age'].quantile(q = 0.75) - df['age'].quantile(q = 0.25)), 'are outliers')\n"
   ]
  },
  {
   "cell_type": "code",
   "execution_count": 59,
   "id": "7f4f6826-b3e3-4234-a6c6-2569d9241c5e",
   "metadata": {},
   "outputs": [
    {
     "name": "stdout",
     "output_type": "stream",
     "text": [
      "Numerber of outliers:  554\n",
      "Number of clients:  45211\n",
      "Outliers are: 1.23 %\n"
     ]
    }
   ],
   "source": [
    "print('Numerber of outliers: ', df[df['age'] > 69.6]['age'].count())\n",
    "print('Number of clients: ', len(df))\n",
    "#Outliers in %\n",
    "print('Outliers are:', round(df[df['age'] > 69.6]['age'].count()*100/len(df),2), '%')"
   ]
  },
  {
   "cell_type": "code",
   "execution_count": 60,
   "id": "938dc350-bac2-45b2-acad-baa380258cc7",
   "metadata": {},
   "outputs": [
    {
     "name": "stdout",
     "output_type": "stream",
     "text": [
      "MEAN: 40.9\n",
      "STD : 10.6\n",
      "CV  : 25.9 , High middle dispersion\n"
     ]
    }
   ],
   "source": [
    "# Calculating some values to evaluete this independent variable\n",
    "print('MEAN:', round(df['age'].mean(), 1))\n",
    "# A low standard deviation indicates that the data points tend to be close to the mean or expected value\n",
    "# A high standard deviation indicates that the data points are scattered\n",
    "print('STD :', round(df['age'].std(), 1))\n",
    "# I thing the best way to give a precisly insight abou dispersion is using the CV (coefficient variation) (STD/MEAN)*100\n",
    "#    cv < 15%, low dispersion\n",
    "#    cv > 30%, high dispersion\n",
    "print('CV  :',round(df['age'].std()*100/df['age'].mean(), 1), ', High middle dispersion')"
   ]
  },
  {
   "cell_type": "code",
   "execution_count": 61,
   "id": "b5c1869e-365e-4901-8a98-0c2f64165cf4",
   "metadata": {},
   "outputs": [
    {
     "name": "stdout",
     "output_type": "stream",
     "text": [
      "y                     0         1\n",
      "job                              \n",
      "admin.         0.877973  0.122027\n",
      "blue-collar    0.927250  0.072750\n",
      "entrepreneur   0.917283  0.082717\n",
      "housemaid      0.912097  0.087903\n",
      "management     0.862444  0.137556\n",
      "retired        0.772085  0.227915\n",
      "self-employed  0.881571  0.118429\n",
      "services       0.911170  0.088830\n",
      "student        0.713220  0.286780\n",
      "technician     0.889430  0.110570\n",
      "unemployed     0.844973  0.155027\n",
      "unknown        0.881944  0.118056\n"
     ]
    }
   ],
   "source": [
    "### 6. Handling Job Variable\n",
    "# Cross-tabulating 'job' with 'y'\n",
    "job_crosstab = pd.crosstab(df['job'], df['y'], normalize='index')\n",
    "print(job_crosstab)\n",
    "# Dropping rows where 'job' is 'unknown'\n",
    "df = df[df['job'] != 'unknown']"
   ]
  },
  {
   "cell_type": "markdown",
   "id": "8e9caa10-2f6d-4b38-a7f6-924e24d9a367",
   "metadata": {},
   "source": [
    "## JOB"
   ]
  },
  {
   "cell_type": "code",
   "execution_count": 63,
   "id": "1f7a46ae-772b-4730-b69f-1d1cc2c21278",
   "metadata": {},
   "outputs": [
    {
     "data": {
      "image/png": "[encoded data removed]",
      "text/plain": [
       "<Figure size 1258.88x600 with 1 Axes>"
      ]
     },
     "metadata": {},
     "output_type": "display_data"
    }
   ],
   "source": [
    "# Visualizing job distribution by target variable\n",
    "try:\n",
    "    sns.catplot(data=df, x='job', hue='y', kind='count', height=6, aspect=2)\n",
    "except AttributeError:\n",
    "    print(\"No Error\")\n",
    "plt.xticks(rotation=90)\n",
    "plt.title('Job Distribution by Target Variable')\n",
    "plt.show()"
   ]
  },
  {
   "cell_type": "markdown",
   "id": "399847e9-b31c-467c-8aef-ebe96e2caa7c",
   "metadata": {},
   "source": [
    "## Cross-tabulating 'marital' with 'y'"
   ]
  },
  {
   "cell_type": "code",
   "execution_count": 65,
   "id": "e38d6e39-e1e1-4144-9342-3c62bf4ea2d1",
   "metadata": {},
   "outputs": [
    {
     "name": "stdout",
     "output_type": "stream",
     "text": [
      "y                0         1\n",
      "marital                     \n",
      "divorced  0.880347  0.119653\n",
      "married   0.898782  0.101218\n",
      "single    0.850652  0.149348\n"
     ]
    }
   ],
   "source": [
    "marital_crosstab = pd.crosstab(df['marital'], df['y'], normalize='index')\n",
    "print(marital_crosstab)"
   ]
  },
  {
   "cell_type": "code",
   "execution_count": 66,
   "id": "fc2c3962-b66b-4ddd-8181-5d2033409541",
   "metadata": {},
   "outputs": [],
   "source": [
    "df = df[df['marital'] != 'unknown']"
   ]
  },
  {
   "cell_type": "code",
   "execution_count": 72,
   "id": "616db1ab-15c7-4463-9f48-f0fbd0a4a45d",
   "metadata": {},
   "outputs": [
    {
     "data": {
      "image/png": "[encoded data removed]",
      "text/plain": [
       "<Figure size 1258.88x600 with 1 Axes>"
      ]
     },
     "metadata": {},
     "output_type": "display_data"
    }
   ],
   "source": [
    "try:\n",
    "    sns.catplot(data=df, x='marital', hue='y', kind='count', height=6, aspect=2)\n",
    "except AttributeError:\n",
    "    print(\"no error\")\n",
    "plt.xticks(rotation=90)\n",
    "plt.title('Marital Status by Target Variable')\n",
    "plt.show()"
   ]
  },
  {
   "cell_type": "markdown",
   "id": "1ce42ebd-615a-4735-ac03-ca301086e8eb",
   "metadata": {},
   "source": [
    "## Education"
   ]
  },
  {
   "cell_type": "code",
   "execution_count": 75,
   "id": "49c24f19-b8d4-4208-8578-81d2060dc9df",
   "metadata": {},
   "outputs": [
    {
     "name": "stdout",
     "output_type": "stream",
     "text": [
      "y                 0         1\n",
      "education                    \n",
      "primary    0.913529  0.086471\n",
      "secondary  0.894471  0.105529\n",
      "tertiary   0.849796  0.150204\n",
      "unknown    0.864740  0.135260\n"
     ]
    }
   ],
   "source": [
    "\n",
    "education_crosstab = pd.crosstab(df['education'], df['y'], normalize='index')\n",
    "print(education_crosstab)"
   ]
  },
  {
   "cell_type": "code",
   "execution_count": 76,
   "id": "8ba24938-d5af-4a42-8418-8377e6642c79",
   "metadata": {},
   "outputs": [],
   "source": [
    "#Replacing unknown in education with university degree\n",
    "df['education'] = df['education'].replace('unknown', 'university.degree')"
   ]
  },
  {
   "cell_type": "code",
   "execution_count": 77,
   "id": "03ab8e57-b998-4515-b7a7-5f431cea8327",
   "metadata": {},
   "outputs": [
    {
     "data": {
      "image/png": "[encoded data removed]",
      "text/plain": [
       "<Figure size 1258.88x600 with 1 Axes>"
      ]
     },
     "metadata": {},
     "output_type": "display_data"
    }
   ],
   "source": [
    "try:\n",
    "    sns.catplot(data=df, x='education', hue='y', kind='count', height=6, aspect=2)\n",
    "except AttributeError:\n",
    "    print(\"no error\")\n",
    "plt.xticks(rotation=90)\n",
    "plt.title('Education Level by Target Variable')\n",
    "plt.show()"
   ]
  },
  {
   "cell_type": "markdown",
   "id": "8d1d79ad-c522-4e05-8fbd-7f4d972298a2",
   "metadata": {},
   "source": [
    "## Default, housing, loan"
   ]
  },
  {
   "cell_type": "code",
   "execution_count": 79,
   "id": "1f128fc6-2297-4f89-9180-8e30931fbe7f",
   "metadata": {},
   "outputs": [
    {
     "data": {
      "image/png": "[encoded data removed]",
      "text/plain": [
       "<Figure size 558.875x500 with 1 Axes>"
      ]
     },
     "metadata": {},
     "output_type": "display_data"
    }
   ],
   "source": [
    "\n",
    "try:\n",
    "    sns.catplot(x = 'default', hue='y', kind=\"count\", data = df, order = ['no', 'unknown', 'yes'])\n",
    "except AttributeError:\n",
    "    print(\"no error\")\n",
    "plt.title('Default')\n",
    "plt.show()"
   ]
  },
  {
   "cell_type": "code",
   "execution_count": 82,
   "id": "9c3627a2-0d12-4670-82fb-2a484af0a545",
   "metadata": {},
   "outputs": [
    {
     "data": {
      "image/png": "[encoded data removed]",
      "text/plain": [
       "<Figure size 558.875x500 with 1 Axes>"
      ]
     },
     "metadata": {},
     "output_type": "display_data"
    }
   ],
   "source": [
    "\n",
    "# Housing, has housing loan ?\n",
    "try:\n",
    "    sns.catplot(x = 'housing',  hue='y', kind=\"count\", data = df, order = ['no', 'unknown', 'yes'])\n",
    "except AttributeError:\n",
    "    print(\"no error\")\n",
    "plt.title(\"Housing\")\n",
    "plt.show()"
   ]
  },
  {
   "cell_type": "code",
   "execution_count": 84,
   "id": "a8f7913a-eb6a-4e4b-9108-aaddb7793366",
   "metadata": {},
   "outputs": [
    {
     "data": {
      "image/png": "[encoded data removed]",
      "text/plain": [
       "<Figure size 558.875x500 with 1 Axes>"
      ]
     },
     "metadata": {},
     "output_type": "display_data"
    }
   ],
   "source": [
    "# Loan, has personal loan ?\n",
    "try:\n",
    "    sns.catplot(x = 'loan', hue='y', kind=\"count\", data = df, order = ['no', 'unknown', 'yes'])\n",
    "except AttributeError:\n",
    "    print(\"no error\")\n",
    "plt.title(\"Loan\")\n",
    "plt.show()"
   ]
  },
  {
   "cell_type": "code",
   "execution_count": 85,
   "id": "a82ef174-85dc-439b-bbc2-59e445ed2331",
   "metadata": {},
   "outputs": [
    {
     "data": {
      "text/plain": [
       "default\n",
       "no     44110\n",
       "yes      813\n",
       "Name: count, dtype: int64"
      ]
     },
     "execution_count": 85,
     "metadata": {},
     "output_type": "execute_result"
    }
   ],
   "source": [
    "df['default'].value_counts()"
   ]
  },
  {
   "cell_type": "code",
   "execution_count": 86,
   "id": "aea7e32c-4969-4a1b-b3ae-ccc27ea117f4",
   "metadata": {},
   "outputs": [
    {
     "data": {
      "text/plain": [
       "housing\n",
       "yes    25104\n",
       "no     19819\n",
       "Name: count, dtype: int64"
      ]
     },
     "execution_count": 86,
     "metadata": {},
     "output_type": "execute_result"
    }
   ],
   "source": [
    "df['housing'].value_counts()"
   ]
  },
  {
   "cell_type": "code",
   "execution_count": 87,
   "id": "0659031f-abd9-471a-b0a5-759c7c130c5c",
   "metadata": {},
   "outputs": [
    {
     "data": {
      "text/plain": [
       "loan\n",
       "no     37683\n",
       "yes     7240\n",
       "Name: count, dtype: int64"
      ]
     },
     "execution_count": 87,
     "metadata": {},
     "output_type": "execute_result"
    }
   ],
   "source": [
    "df['loan'].value_counts()"
   ]
  },
  {
   "cell_type": "markdown",
   "id": "e135fc2a-3033-45b4-a849-3ef3b0827081",
   "metadata": {},
   "source": [
    "## Label encoder order "
   ]
  },
  {
   "cell_type": "code",
   "execution_count": 149,
   "id": "a34161ba-09ef-4592-bfab-4b29d2d67f8c",
   "metadata": {},
   "outputs": [],
   "source": [
    "# Label encoder order is alphabetical\n",
    "from sklearn.preprocessing import LabelEncoder\n",
    "labelencoder_X = LabelEncoder()\n",
    "df['job']      = labelencoder_X.fit_transform(df['job']) \n",
    "df['marital']  = labelencoder_X.fit_transform(df['marital']) \n",
    "df['education']= labelencoder_X.fit_transform(df['education']) \n",
    "df['default']  = labelencoder_X.fit_transform(df['default']) \n",
    "df['housing']  = labelencoder_X.fit_transform(df['housing']) \n",
    "df['loan']     = labelencoder_X.fit_transform(df['loan'])"
   ]
  },
  {
   "cell_type": "markdown",
   "id": "7727cf3e-3c8a-45ca-8560-f5297acf712c",
   "metadata": {},
   "source": [
    "## Contact, month and day of the week"
   ]
  },
  {
   "cell_type": "code",
   "execution_count": 151,
   "id": "45bdf9fe-da98-4bea-ae90-6d5be18ebf5f",
   "metadata": {},
   "outputs": [
    {
     "ename": "ValueError",
     "evalue": "Could not interpret value `day_of_week` for `x`. An entry with this name does not appear in `data`.",
     "output_type": "error",
     "traceback": [
      "\u001b[1;31m---------------------------------------------------------------------------\u001b[0m",
      "\u001b[1;31mValueError\u001b[0m                                Traceback (most recent call last)",
      "Cell \u001b[1;32mIn[151], line 17\u001b[0m\n\u001b[0;32m     14\u001b[0m ax2\u001b[38;5;241m.\u001b[39mtick_params(labelsize\u001b[38;5;241m=\u001b[39m\u001b[38;5;241m15\u001b[39m)\n\u001b[0;32m     16\u001b[0m \u001b[38;5;66;03m# Loan, has personal loan ?\u001b[39;00m\n\u001b[1;32m---> 17\u001b[0m sns\u001b[38;5;241m.\u001b[39mcountplot(x \u001b[38;5;241m=\u001b[39m \u001b[38;5;124m'\u001b[39m\u001b[38;5;124mday_of_week\u001b[39m\u001b[38;5;124m'\u001b[39m, data \u001b[38;5;241m=\u001b[39m df, ax \u001b[38;5;241m=\u001b[39m ax3, order \u001b[38;5;241m=\u001b[39m [\u001b[38;5;124m'\u001b[39m\u001b[38;5;124mmon\u001b[39m\u001b[38;5;124m'\u001b[39m, \u001b[38;5;124m'\u001b[39m\u001b[38;5;124mtue\u001b[39m\u001b[38;5;124m'\u001b[39m, \u001b[38;5;124m'\u001b[39m\u001b[38;5;124mwed\u001b[39m\u001b[38;5;124m'\u001b[39m, \u001b[38;5;124m'\u001b[39m\u001b[38;5;124mthu\u001b[39m\u001b[38;5;124m'\u001b[39m, \u001b[38;5;124m'\u001b[39m\u001b[38;5;124mfri\u001b[39m\u001b[38;5;124m'\u001b[39m])\n\u001b[0;32m     18\u001b[0m ax3\u001b[38;5;241m.\u001b[39mset_title(\u001b[38;5;124m'\u001b[39m\u001b[38;5;124mDay_of_week\u001b[39m\u001b[38;5;124m'\u001b[39m, fontsize\u001b[38;5;241m=\u001b[39m\u001b[38;5;241m15\u001b[39m)\n\u001b[0;32m     19\u001b[0m ax3\u001b[38;5;241m.\u001b[39mset_xlabel(\u001b[38;5;124m'\u001b[39m\u001b[38;5;124m'\u001b[39m)\n",
      "File \u001b[1;32m~\\anaconda3\\Lib\\site-packages\\seaborn\\categorical.py:2631\u001b[0m, in \u001b[0;36mcountplot\u001b[1;34m(data, x, y, hue, order, hue_order, orient, color, palette, saturation, fill, hue_norm, stat, width, dodge, gap, log_scale, native_scale, formatter, legend, ax, **kwargs)\u001b[0m\n\u001b[0;32m   2628\u001b[0m \u001b[38;5;28;01melif\u001b[39;00m x \u001b[38;5;129;01mis\u001b[39;00m \u001b[38;5;129;01mnot\u001b[39;00m \u001b[38;5;28;01mNone\u001b[39;00m \u001b[38;5;129;01mand\u001b[39;00m y \u001b[38;5;129;01mis\u001b[39;00m \u001b[38;5;129;01mnot\u001b[39;00m \u001b[38;5;28;01mNone\u001b[39;00m:\n\u001b[0;32m   2629\u001b[0m     \u001b[38;5;28;01mraise\u001b[39;00m \u001b[38;5;167;01mTypeError\u001b[39;00m(\u001b[38;5;124m\"\u001b[39m\u001b[38;5;124mCannot pass values for both `x` and `y`.\u001b[39m\u001b[38;5;124m\"\u001b[39m)\n\u001b[1;32m-> 2631\u001b[0m p \u001b[38;5;241m=\u001b[39m _CategoricalAggPlotter(\n\u001b[0;32m   2632\u001b[0m     data\u001b[38;5;241m=\u001b[39mdata,\n\u001b[0;32m   2633\u001b[0m     variables\u001b[38;5;241m=\u001b[39m\u001b[38;5;28mdict\u001b[39m(x\u001b[38;5;241m=\u001b[39mx, y\u001b[38;5;241m=\u001b[39my, hue\u001b[38;5;241m=\u001b[39mhue),\n\u001b[0;32m   2634\u001b[0m     order\u001b[38;5;241m=\u001b[39morder,\n\u001b[0;32m   2635\u001b[0m     orient\u001b[38;5;241m=\u001b[39morient,\n\u001b[0;32m   2636\u001b[0m     color\u001b[38;5;241m=\u001b[39mcolor,\n\u001b[0;32m   2637\u001b[0m     legend\u001b[38;5;241m=\u001b[39mlegend,\n\u001b[0;32m   2638\u001b[0m )\n\u001b[0;32m   2640\u001b[0m \u001b[38;5;28;01mif\u001b[39;00m ax \u001b[38;5;129;01mis\u001b[39;00m \u001b[38;5;28;01mNone\u001b[39;00m:\n\u001b[0;32m   2641\u001b[0m     ax \u001b[38;5;241m=\u001b[39m plt\u001b[38;5;241m.\u001b[39mgca()\n",
      "File \u001b[1;32m~\\anaconda3\\Lib\\site-packages\\seaborn\\categorical.py:67\u001b[0m, in \u001b[0;36m_CategoricalPlotter.__init__\u001b[1;34m(self, data, variables, order, orient, require_numeric, color, legend)\u001b[0m\n\u001b[0;32m     56\u001b[0m \u001b[38;5;28;01mdef\u001b[39;00m \u001b[38;5;21m__init__\u001b[39m(\n\u001b[0;32m     57\u001b[0m     \u001b[38;5;28mself\u001b[39m,\n\u001b[0;32m     58\u001b[0m     data\u001b[38;5;241m=\u001b[39m\u001b[38;5;28;01mNone\u001b[39;00m,\n\u001b[1;32m   (...)\u001b[0m\n\u001b[0;32m     64\u001b[0m     legend\u001b[38;5;241m=\u001b[39m\u001b[38;5;124m\"\u001b[39m\u001b[38;5;124mauto\u001b[39m\u001b[38;5;124m\"\u001b[39m,\n\u001b[0;32m     65\u001b[0m ):\n\u001b[1;32m---> 67\u001b[0m     \u001b[38;5;28msuper\u001b[39m()\u001b[38;5;241m.\u001b[39m\u001b[38;5;21m__init__\u001b[39m(data\u001b[38;5;241m=\u001b[39mdata, variables\u001b[38;5;241m=\u001b[39mvariables)\n\u001b[0;32m     69\u001b[0m     \u001b[38;5;66;03m# This method takes care of some bookkeeping that is necessary because the\u001b[39;00m\n\u001b[0;32m     70\u001b[0m     \u001b[38;5;66;03m# original categorical plots (prior to the 2021 refactor) had some rules that\u001b[39;00m\n\u001b[0;32m     71\u001b[0m     \u001b[38;5;66;03m# don't fit exactly into VectorPlotter logic. It may be wise to have a second\u001b[39;00m\n\u001b[1;32m   (...)\u001b[0m\n\u001b[0;32m     76\u001b[0m     \u001b[38;5;66;03m# default VectorPlotter rules. If we do decide to make orient part of the\u001b[39;00m\n\u001b[0;32m     77\u001b[0m     \u001b[38;5;66;03m# _base variable assignment, we'll want to figure out how to express that.\u001b[39;00m\n\u001b[0;32m     78\u001b[0m     \u001b[38;5;28;01mif\u001b[39;00m \u001b[38;5;28mself\u001b[39m\u001b[38;5;241m.\u001b[39minput_format \u001b[38;5;241m==\u001b[39m \u001b[38;5;124m\"\u001b[39m\u001b[38;5;124mwide\u001b[39m\u001b[38;5;124m\"\u001b[39m \u001b[38;5;129;01mand\u001b[39;00m orient \u001b[38;5;129;01min\u001b[39;00m [\u001b[38;5;124m\"\u001b[39m\u001b[38;5;124mh\u001b[39m\u001b[38;5;124m\"\u001b[39m, \u001b[38;5;124m\"\u001b[39m\u001b[38;5;124my\u001b[39m\u001b[38;5;124m\"\u001b[39m]:\n",
      "File \u001b[1;32m~\\anaconda3\\Lib\\site-packages\\seaborn\\_base.py:634\u001b[0m, in \u001b[0;36mVectorPlotter.__init__\u001b[1;34m(self, data, variables)\u001b[0m\n\u001b[0;32m    629\u001b[0m \u001b[38;5;66;03m# var_ordered is relevant only for categorical axis variables, and may\u001b[39;00m\n\u001b[0;32m    630\u001b[0m \u001b[38;5;66;03m# be better handled by an internal axis information object that tracks\u001b[39;00m\n\u001b[0;32m    631\u001b[0m \u001b[38;5;66;03m# such information and is set up by the scale_* methods. The analogous\u001b[39;00m\n\u001b[0;32m    632\u001b[0m \u001b[38;5;66;03m# information for numeric axes would be information about log scales.\u001b[39;00m\n\u001b[0;32m    633\u001b[0m \u001b[38;5;28mself\u001b[39m\u001b[38;5;241m.\u001b[39m_var_ordered \u001b[38;5;241m=\u001b[39m {\u001b[38;5;124m\"\u001b[39m\u001b[38;5;124mx\u001b[39m\u001b[38;5;124m\"\u001b[39m: \u001b[38;5;28;01mFalse\u001b[39;00m, \u001b[38;5;124m\"\u001b[39m\u001b[38;5;124my\u001b[39m\u001b[38;5;124m\"\u001b[39m: \u001b[38;5;28;01mFalse\u001b[39;00m}  \u001b[38;5;66;03m# alt., used DefaultDict\u001b[39;00m\n\u001b[1;32m--> 634\u001b[0m \u001b[38;5;28mself\u001b[39m\u001b[38;5;241m.\u001b[39massign_variables(data, variables)\n\u001b[0;32m    636\u001b[0m \u001b[38;5;66;03m# TODO Lots of tests assume that these are called to initialize the\u001b[39;00m\n\u001b[0;32m    637\u001b[0m \u001b[38;5;66;03m# mappings to default values on class initialization. I'd prefer to\u001b[39;00m\n\u001b[0;32m    638\u001b[0m \u001b[38;5;66;03m# move away from that and only have a mapping when explicitly called.\u001b[39;00m\n\u001b[0;32m    639\u001b[0m \u001b[38;5;28;01mfor\u001b[39;00m var \u001b[38;5;129;01min\u001b[39;00m [\u001b[38;5;124m\"\u001b[39m\u001b[38;5;124mhue\u001b[39m\u001b[38;5;124m\"\u001b[39m, \u001b[38;5;124m\"\u001b[39m\u001b[38;5;124msize\u001b[39m\u001b[38;5;124m\"\u001b[39m, \u001b[38;5;124m\"\u001b[39m\u001b[38;5;124mstyle\u001b[39m\u001b[38;5;124m\"\u001b[39m]:\n",
      "File \u001b[1;32m~\\anaconda3\\Lib\\site-packages\\seaborn\\_base.py:679\u001b[0m, in \u001b[0;36mVectorPlotter.assign_variables\u001b[1;34m(self, data, variables)\u001b[0m\n\u001b[0;32m    674\u001b[0m \u001b[38;5;28;01melse\u001b[39;00m:\n\u001b[0;32m    675\u001b[0m     \u001b[38;5;66;03m# When dealing with long-form input, use the newer PlotData\u001b[39;00m\n\u001b[0;32m    676\u001b[0m     \u001b[38;5;66;03m# object (internal but introduced for the objects interface)\u001b[39;00m\n\u001b[0;32m    677\u001b[0m     \u001b[38;5;66;03m# to centralize / standardize data consumption logic.\u001b[39;00m\n\u001b[0;32m    678\u001b[0m     \u001b[38;5;28mself\u001b[39m\u001b[38;5;241m.\u001b[39minput_format \u001b[38;5;241m=\u001b[39m \u001b[38;5;124m\"\u001b[39m\u001b[38;5;124mlong\u001b[39m\u001b[38;5;124m\"\u001b[39m\n\u001b[1;32m--> 679\u001b[0m     plot_data \u001b[38;5;241m=\u001b[39m PlotData(data, variables)\n\u001b[0;32m    680\u001b[0m     frame \u001b[38;5;241m=\u001b[39m plot_data\u001b[38;5;241m.\u001b[39mframe\n\u001b[0;32m    681\u001b[0m     names \u001b[38;5;241m=\u001b[39m plot_data\u001b[38;5;241m.\u001b[39mnames\n",
      "File \u001b[1;32m~\\anaconda3\\Lib\\site-packages\\seaborn\\_core\\data.py:58\u001b[0m, in \u001b[0;36mPlotData.__init__\u001b[1;34m(self, data, variables)\u001b[0m\n\u001b[0;32m     51\u001b[0m \u001b[38;5;28;01mdef\u001b[39;00m \u001b[38;5;21m__init__\u001b[39m(\n\u001b[0;32m     52\u001b[0m     \u001b[38;5;28mself\u001b[39m,\n\u001b[0;32m     53\u001b[0m     data: DataSource,\n\u001b[0;32m     54\u001b[0m     variables: \u001b[38;5;28mdict\u001b[39m[\u001b[38;5;28mstr\u001b[39m, VariableSpec],\n\u001b[0;32m     55\u001b[0m ):\n\u001b[0;32m     57\u001b[0m     data \u001b[38;5;241m=\u001b[39m handle_data_source(data)\n\u001b[1;32m---> 58\u001b[0m     frame, names, ids \u001b[38;5;241m=\u001b[39m \u001b[38;5;28mself\u001b[39m\u001b[38;5;241m.\u001b[39m_assign_variables(data, variables)\n\u001b[0;32m     60\u001b[0m     \u001b[38;5;28mself\u001b[39m\u001b[38;5;241m.\u001b[39mframe \u001b[38;5;241m=\u001b[39m frame\n\u001b[0;32m     61\u001b[0m     \u001b[38;5;28mself\u001b[39m\u001b[38;5;241m.\u001b[39mnames \u001b[38;5;241m=\u001b[39m names\n",
      "File \u001b[1;32m~\\anaconda3\\Lib\\site-packages\\seaborn\\_core\\data.py:232\u001b[0m, in \u001b[0;36mPlotData._assign_variables\u001b[1;34m(self, data, variables)\u001b[0m\n\u001b[0;32m    230\u001b[0m     \u001b[38;5;28;01melse\u001b[39;00m:\n\u001b[0;32m    231\u001b[0m         err \u001b[38;5;241m+\u001b[39m\u001b[38;5;241m=\u001b[39m \u001b[38;5;124m\"\u001b[39m\u001b[38;5;124mAn entry with this name does not appear in `data`.\u001b[39m\u001b[38;5;124m\"\u001b[39m\n\u001b[1;32m--> 232\u001b[0m     \u001b[38;5;28;01mraise\u001b[39;00m \u001b[38;5;167;01mValueError\u001b[39;00m(err)\n\u001b[0;32m    234\u001b[0m \u001b[38;5;28;01melse\u001b[39;00m:\n\u001b[0;32m    235\u001b[0m \n\u001b[0;32m    236\u001b[0m     \u001b[38;5;66;03m# Otherwise, assume the value somehow represents data\u001b[39;00m\n\u001b[0;32m    237\u001b[0m \n\u001b[0;32m    238\u001b[0m     \u001b[38;5;66;03m# Ignore empty data structures\u001b[39;00m\n\u001b[0;32m    239\u001b[0m     \u001b[38;5;28;01mif\u001b[39;00m \u001b[38;5;28misinstance\u001b[39m(val, Sized) \u001b[38;5;129;01mand\u001b[39;00m \u001b[38;5;28mlen\u001b[39m(val) \u001b[38;5;241m==\u001b[39m \u001b[38;5;241m0\u001b[39m:\n",
      "\u001b[1;31mValueError\u001b[0m: Could not interpret value `day_of_week` for `x`. An entry with this name does not appear in `data`."
     ]
    },
    {
     "data": {
      "image/png": "[encoded data removed]",
      "text/plain": [
       "<Figure size 2000x800 with 3 Axes>"
      ]
     },
     "metadata": {},
     "output_type": "display_data"
    }
   ],
   "source": [
    "fig, (ax1, ax2, ax3) = plt.subplots(nrows = 1, ncols = 3, figsize = (20,8))\n",
    "sns.countplot(x = 'contact', data = df, ax = ax1, order = ['telephone', 'cellular'])\n",
    "ax1.set_title('contact', fontsize=15)\n",
    "ax1.set_xlabel('')\n",
    "ax1.set_ylabel('Count', fontsize=15)\n",
    "ax1.tick_params(labelsize=15)\n",
    "\n",
    "\n",
    "sns.countplot(x = 'month', data = df, ax = ax2, order = ['may', 'jun', 'jul', 'aug', 'oct', 'nov', 'dec', 'mar', 'apr',\n",
    "       'sep'])\n",
    "ax2.set_title('Month', fontsize=15)\n",
    "ax2.set_xlabel('')\n",
    "ax2.set_ylabel('Count', fontsize=15)\n",
    "ax2.tick_params(labelsize=15)\n",
    "\n",
    "# Loan, has personal loan ?\n",
    "sns.countplot(x = 'day_of_week', data = df, ax = ax3, order = ['mon', 'tue', 'wed', 'thu', 'fri'])\n",
    "ax3.set_title('Day_of_week', fontsize=15)\n",
    "ax3.set_xlabel('')\n",
    "ax3.set_ylabel('Count', fontsize=15)\n",
    "ax3.tick_params(labelsize=15)\n",
    "\n",
    "plt.subplots_adjust(wspace=0.25)"
   ]
  },
  {
   "cell_type": "code",
   "execution_count": 147,
   "id": "1de091a8-ff70-48ba-9798-72cff76690c5",
   "metadata": {},
   "outputs": [
    {
     "data": {
      "image/png": "[encoded data removed]",
      "text/plain": [
       "<Figure size 558.875x500 with 1 Axes>"
      ]
     },
     "metadata": {},
     "output_type": "display_data"
    }
   ],
   "source": [
    "#Visualizing contact\n",
    "try:\n",
    "    sns.catplot(x = 'contact', hue=\"y\", data = df, kind=\"count\",  order = ['telephone', 'cellular'])\n",
    "except AttributeError:\n",
    "    print(\"no error\")\n",
    "plt.title(\"Contact\")\n",
    "plt.show()"
   ]
  },
  {
   "cell_type": "code",
   "execution_count": 144,
   "id": "785d93dc-094b-47ff-aa3d-6540c7a3c66f",
   "metadata": {},
   "outputs": [
    {
     "data": {
      "image/png": "[encoded data removed]",
      "text/plain": [
       "<Figure size 558.875x500 with 1 Axes>"
      ]
     },
     "metadata": {},
     "output_type": "display_data"
    }
   ],
   "source": [
    "#Visualizing contacted Month\n",
    "try:\n",
    "    sns.catplot(x = 'month', hue=\"y\", data = df, kind=\"count\", order = ['may', 'jun', 'jul', 'aug', 'oct', 'nov', 'dec', 'mar', 'apr',\n",
    "       'sep'])\n",
    "except AttributeError:\n",
    "    print(\"no error\")\n",
    "plt.title(\"Month\")\n",
    "plt.show()"
   ]
  },
  {
   "cell_type": "code",
   "execution_count": 153,
   "id": "eb5acdbc-7253-4f7f-aae5-710c6624505b",
   "metadata": {},
   "outputs": [
    {
     "ename": "ValueError",
     "evalue": "Could not interpret value `day_of_week` for `x`. An entry with this name does not appear in `data`.",
     "output_type": "error",
     "traceback": [
      "\u001b[1;31m---------------------------------------------------------------------------\u001b[0m",
      "\u001b[1;31mValueError\u001b[0m                                Traceback (most recent call last)",
      "Cell \u001b[1;32mIn[153], line 3\u001b[0m\n\u001b[0;32m      1\u001b[0m \u001b[38;5;66;03m#Visualizing contacted day of the week\u001b[39;00m\n\u001b[0;32m      2\u001b[0m \u001b[38;5;28;01mtry\u001b[39;00m:\n\u001b[1;32m----> 3\u001b[0m     sns\u001b[38;5;241m.\u001b[39mcatplot(x \u001b[38;5;241m=\u001b[39m \u001b[38;5;124m\"\u001b[39m\u001b[38;5;124mday_of_week\u001b[39m\u001b[38;5;124m\"\u001b[39m, hue\u001b[38;5;241m=\u001b[39m\u001b[38;5;124m\"\u001b[39m\u001b[38;5;124my\u001b[39m\u001b[38;5;124m\"\u001b[39m, data \u001b[38;5;241m=\u001b[39m df, kind\u001b[38;5;241m=\u001b[39m\u001b[38;5;124m\"\u001b[39m\u001b[38;5;124mcount\u001b[39m\u001b[38;5;124m\"\u001b[39m, order \u001b[38;5;241m=\u001b[39m [\u001b[38;5;124m'\u001b[39m\u001b[38;5;124mmon\u001b[39m\u001b[38;5;124m'\u001b[39m, \u001b[38;5;124m'\u001b[39m\u001b[38;5;124mtue\u001b[39m\u001b[38;5;124m'\u001b[39m, \u001b[38;5;124m'\u001b[39m\u001b[38;5;124mwed\u001b[39m\u001b[38;5;124m'\u001b[39m, \u001b[38;5;124m'\u001b[39m\u001b[38;5;124mthu\u001b[39m\u001b[38;5;124m'\u001b[39m, \u001b[38;5;124m'\u001b[39m\u001b[38;5;124mfri\u001b[39m\u001b[38;5;124m'\u001b[39m])\n\u001b[0;32m      4\u001b[0m \u001b[38;5;28;01mexcept\u001b[39;00m \u001b[38;5;167;01mAttributeError\u001b[39;00m:\n\u001b[0;32m      5\u001b[0m     \u001b[38;5;28mprint\u001b[39m(\u001b[38;5;124m\"\u001b[39m\u001b[38;5;124mno error\u001b[39m\u001b[38;5;124m\"\u001b[39m)\n",
      "File \u001b[1;32m~\\anaconda3\\Lib\\site-packages\\seaborn\\categorical.py:2782\u001b[0m, in \u001b[0;36mcatplot\u001b[1;34m(data, x, y, hue, row, col, kind, estimator, errorbar, n_boot, seed, units, weights, order, hue_order, row_order, col_order, col_wrap, height, aspect, log_scale, native_scale, formatter, orient, color, palette, hue_norm, legend, legend_out, sharex, sharey, margin_titles, facet_kws, ci, **kwargs)\u001b[0m\n\u001b[0;32m   2779\u001b[0m     \u001b[38;5;28;01melif\u001b[39;00m x \u001b[38;5;129;01mis\u001b[39;00m \u001b[38;5;129;01mnot\u001b[39;00m \u001b[38;5;28;01mNone\u001b[39;00m \u001b[38;5;129;01mand\u001b[39;00m y \u001b[38;5;129;01mis\u001b[39;00m \u001b[38;5;129;01mnot\u001b[39;00m \u001b[38;5;28;01mNone\u001b[39;00m:\n\u001b[0;32m   2780\u001b[0m         \u001b[38;5;28;01mraise\u001b[39;00m \u001b[38;5;167;01mValueError\u001b[39;00m(\u001b[38;5;124m\"\u001b[39m\u001b[38;5;124mCannot pass values for both `x` and `y`.\u001b[39m\u001b[38;5;124m\"\u001b[39m)\n\u001b[1;32m-> 2782\u001b[0m p \u001b[38;5;241m=\u001b[39m Plotter(\n\u001b[0;32m   2783\u001b[0m     data\u001b[38;5;241m=\u001b[39mdata,\n\u001b[0;32m   2784\u001b[0m     variables\u001b[38;5;241m=\u001b[39m\u001b[38;5;28mdict\u001b[39m(\n\u001b[0;32m   2785\u001b[0m         x\u001b[38;5;241m=\u001b[39mx, y\u001b[38;5;241m=\u001b[39my, hue\u001b[38;5;241m=\u001b[39mhue, row\u001b[38;5;241m=\u001b[39mrow, col\u001b[38;5;241m=\u001b[39mcol, units\u001b[38;5;241m=\u001b[39munits, weight\u001b[38;5;241m=\u001b[39mweights\n\u001b[0;32m   2786\u001b[0m     ),\n\u001b[0;32m   2787\u001b[0m     order\u001b[38;5;241m=\u001b[39morder,\n\u001b[0;32m   2788\u001b[0m     orient\u001b[38;5;241m=\u001b[39morient,\n\u001b[0;32m   2789\u001b[0m     \u001b[38;5;66;03m# Handle special backwards compatibility where pointplot originally\u001b[39;00m\n\u001b[0;32m   2790\u001b[0m     \u001b[38;5;66;03m# did *not* default to multi-colored unless a palette was specified.\u001b[39;00m\n\u001b[0;32m   2791\u001b[0m     color\u001b[38;5;241m=\u001b[39m\u001b[38;5;124m\"\u001b[39m\u001b[38;5;124mC0\u001b[39m\u001b[38;5;124m\"\u001b[39m \u001b[38;5;28;01mif\u001b[39;00m kind \u001b[38;5;241m==\u001b[39m \u001b[38;5;124m\"\u001b[39m\u001b[38;5;124mpoint\u001b[39m\u001b[38;5;124m\"\u001b[39m \u001b[38;5;129;01mand\u001b[39;00m palette \u001b[38;5;129;01mis\u001b[39;00m \u001b[38;5;28;01mNone\u001b[39;00m \u001b[38;5;129;01mand\u001b[39;00m color \u001b[38;5;129;01mis\u001b[39;00m \u001b[38;5;28;01mNone\u001b[39;00m \u001b[38;5;28;01melse\u001b[39;00m color,\n\u001b[0;32m   2792\u001b[0m     legend\u001b[38;5;241m=\u001b[39mlegend,\n\u001b[0;32m   2793\u001b[0m )\n\u001b[0;32m   2795\u001b[0m \u001b[38;5;28;01mfor\u001b[39;00m var \u001b[38;5;129;01min\u001b[39;00m [\u001b[38;5;124m\"\u001b[39m\u001b[38;5;124mrow\u001b[39m\u001b[38;5;124m\"\u001b[39m, \u001b[38;5;124m\"\u001b[39m\u001b[38;5;124mcol\u001b[39m\u001b[38;5;124m\"\u001b[39m]:\n\u001b[0;32m   2796\u001b[0m     \u001b[38;5;66;03m# Handle faceting variables that lack name information\u001b[39;00m\n\u001b[0;32m   2797\u001b[0m     \u001b[38;5;28;01mif\u001b[39;00m var \u001b[38;5;129;01min\u001b[39;00m p\u001b[38;5;241m.\u001b[39mvariables \u001b[38;5;129;01mand\u001b[39;00m p\u001b[38;5;241m.\u001b[39mvariables[var] \u001b[38;5;129;01mis\u001b[39;00m \u001b[38;5;28;01mNone\u001b[39;00m:\n",
      "File \u001b[1;32m~\\anaconda3\\Lib\\site-packages\\seaborn\\categorical.py:67\u001b[0m, in \u001b[0;36m_CategoricalPlotter.__init__\u001b[1;34m(self, data, variables, order, orient, require_numeric, color, legend)\u001b[0m\n\u001b[0;32m     56\u001b[0m \u001b[38;5;28;01mdef\u001b[39;00m \u001b[38;5;21m__init__\u001b[39m(\n\u001b[0;32m     57\u001b[0m     \u001b[38;5;28mself\u001b[39m,\n\u001b[0;32m     58\u001b[0m     data\u001b[38;5;241m=\u001b[39m\u001b[38;5;28;01mNone\u001b[39;00m,\n\u001b[1;32m   (...)\u001b[0m\n\u001b[0;32m     64\u001b[0m     legend\u001b[38;5;241m=\u001b[39m\u001b[38;5;124m\"\u001b[39m\u001b[38;5;124mauto\u001b[39m\u001b[38;5;124m\"\u001b[39m,\n\u001b[0;32m     65\u001b[0m ):\n\u001b[1;32m---> 67\u001b[0m     \u001b[38;5;28msuper\u001b[39m()\u001b[38;5;241m.\u001b[39m\u001b[38;5;21m__init__\u001b[39m(data\u001b[38;5;241m=\u001b[39mdata, variables\u001b[38;5;241m=\u001b[39mvariables)\n\u001b[0;32m     69\u001b[0m     \u001b[38;5;66;03m# This method takes care of some bookkeeping that is necessary because the\u001b[39;00m\n\u001b[0;32m     70\u001b[0m     \u001b[38;5;66;03m# original categorical plots (prior to the 2021 refactor) had some rules that\u001b[39;00m\n\u001b[0;32m     71\u001b[0m     \u001b[38;5;66;03m# don't fit exactly into VectorPlotter logic. It may be wise to have a second\u001b[39;00m\n\u001b[1;32m   (...)\u001b[0m\n\u001b[0;32m     76\u001b[0m     \u001b[38;5;66;03m# default VectorPlotter rules. If we do decide to make orient part of the\u001b[39;00m\n\u001b[0;32m     77\u001b[0m     \u001b[38;5;66;03m# _base variable assignment, we'll want to figure out how to express that.\u001b[39;00m\n\u001b[0;32m     78\u001b[0m     \u001b[38;5;28;01mif\u001b[39;00m \u001b[38;5;28mself\u001b[39m\u001b[38;5;241m.\u001b[39minput_format \u001b[38;5;241m==\u001b[39m \u001b[38;5;124m\"\u001b[39m\u001b[38;5;124mwide\u001b[39m\u001b[38;5;124m\"\u001b[39m \u001b[38;5;129;01mand\u001b[39;00m orient \u001b[38;5;129;01min\u001b[39;00m [\u001b[38;5;124m\"\u001b[39m\u001b[38;5;124mh\u001b[39m\u001b[38;5;124m\"\u001b[39m, \u001b[38;5;124m\"\u001b[39m\u001b[38;5;124my\u001b[39m\u001b[38;5;124m\"\u001b[39m]:\n",
      "File \u001b[1;32m~\\anaconda3\\Lib\\site-packages\\seaborn\\_base.py:634\u001b[0m, in \u001b[0;36mVectorPlotter.__init__\u001b[1;34m(self, data, variables)\u001b[0m\n\u001b[0;32m    629\u001b[0m \u001b[38;5;66;03m# var_ordered is relevant only for categorical axis variables, and may\u001b[39;00m\n\u001b[0;32m    630\u001b[0m \u001b[38;5;66;03m# be better handled by an internal axis information object that tracks\u001b[39;00m\n\u001b[0;32m    631\u001b[0m \u001b[38;5;66;03m# such information and is set up by the scale_* methods. The analogous\u001b[39;00m\n\u001b[0;32m    632\u001b[0m \u001b[38;5;66;03m# information for numeric axes would be information about log scales.\u001b[39;00m\n\u001b[0;32m    633\u001b[0m \u001b[38;5;28mself\u001b[39m\u001b[38;5;241m.\u001b[39m_var_ordered \u001b[38;5;241m=\u001b[39m {\u001b[38;5;124m\"\u001b[39m\u001b[38;5;124mx\u001b[39m\u001b[38;5;124m\"\u001b[39m: \u001b[38;5;28;01mFalse\u001b[39;00m, \u001b[38;5;124m\"\u001b[39m\u001b[38;5;124my\u001b[39m\u001b[38;5;124m\"\u001b[39m: \u001b[38;5;28;01mFalse\u001b[39;00m}  \u001b[38;5;66;03m# alt., used DefaultDict\u001b[39;00m\n\u001b[1;32m--> 634\u001b[0m \u001b[38;5;28mself\u001b[39m\u001b[38;5;241m.\u001b[39massign_variables(data, variables)\n\u001b[0;32m    636\u001b[0m \u001b[38;5;66;03m# TODO Lots of tests assume that these are called to initialize the\u001b[39;00m\n\u001b[0;32m    637\u001b[0m \u001b[38;5;66;03m# mappings to default values on class initialization. I'd prefer to\u001b[39;00m\n\u001b[0;32m    638\u001b[0m \u001b[38;5;66;03m# move away from that and only have a mapping when explicitly called.\u001b[39;00m\n\u001b[0;32m    639\u001b[0m \u001b[38;5;28;01mfor\u001b[39;00m var \u001b[38;5;129;01min\u001b[39;00m [\u001b[38;5;124m\"\u001b[39m\u001b[38;5;124mhue\u001b[39m\u001b[38;5;124m\"\u001b[39m, \u001b[38;5;124m\"\u001b[39m\u001b[38;5;124msize\u001b[39m\u001b[38;5;124m\"\u001b[39m, \u001b[38;5;124m\"\u001b[39m\u001b[38;5;124mstyle\u001b[39m\u001b[38;5;124m\"\u001b[39m]:\n",
      "File \u001b[1;32m~\\anaconda3\\Lib\\site-packages\\seaborn\\_base.py:679\u001b[0m, in \u001b[0;36mVectorPlotter.assign_variables\u001b[1;34m(self, data, variables)\u001b[0m\n\u001b[0;32m    674\u001b[0m \u001b[38;5;28;01melse\u001b[39;00m:\n\u001b[0;32m    675\u001b[0m     \u001b[38;5;66;03m# When dealing with long-form input, use the newer PlotData\u001b[39;00m\n\u001b[0;32m    676\u001b[0m     \u001b[38;5;66;03m# object (internal but introduced for the objects interface)\u001b[39;00m\n\u001b[0;32m    677\u001b[0m     \u001b[38;5;66;03m# to centralize / standardize data consumption logic.\u001b[39;00m\n\u001b[0;32m    678\u001b[0m     \u001b[38;5;28mself\u001b[39m\u001b[38;5;241m.\u001b[39minput_format \u001b[38;5;241m=\u001b[39m \u001b[38;5;124m\"\u001b[39m\u001b[38;5;124mlong\u001b[39m\u001b[38;5;124m\"\u001b[39m\n\u001b[1;32m--> 679\u001b[0m     plot_data \u001b[38;5;241m=\u001b[39m PlotData(data, variables)\n\u001b[0;32m    680\u001b[0m     frame \u001b[38;5;241m=\u001b[39m plot_data\u001b[38;5;241m.\u001b[39mframe\n\u001b[0;32m    681\u001b[0m     names \u001b[38;5;241m=\u001b[39m plot_data\u001b[38;5;241m.\u001b[39mnames\n",
      "File \u001b[1;32m~\\anaconda3\\Lib\\site-packages\\seaborn\\_core\\data.py:58\u001b[0m, in \u001b[0;36mPlotData.__init__\u001b[1;34m(self, data, variables)\u001b[0m\n\u001b[0;32m     51\u001b[0m \u001b[38;5;28;01mdef\u001b[39;00m \u001b[38;5;21m__init__\u001b[39m(\n\u001b[0;32m     52\u001b[0m     \u001b[38;5;28mself\u001b[39m,\n\u001b[0;32m     53\u001b[0m     data: DataSource,\n\u001b[0;32m     54\u001b[0m     variables: \u001b[38;5;28mdict\u001b[39m[\u001b[38;5;28mstr\u001b[39m, VariableSpec],\n\u001b[0;32m     55\u001b[0m ):\n\u001b[0;32m     57\u001b[0m     data \u001b[38;5;241m=\u001b[39m handle_data_source(data)\n\u001b[1;32m---> 58\u001b[0m     frame, names, ids \u001b[38;5;241m=\u001b[39m \u001b[38;5;28mself\u001b[39m\u001b[38;5;241m.\u001b[39m_assign_variables(data, variables)\n\u001b[0;32m     60\u001b[0m     \u001b[38;5;28mself\u001b[39m\u001b[38;5;241m.\u001b[39mframe \u001b[38;5;241m=\u001b[39m frame\n\u001b[0;32m     61\u001b[0m     \u001b[38;5;28mself\u001b[39m\u001b[38;5;241m.\u001b[39mnames \u001b[38;5;241m=\u001b[39m names\n",
      "File \u001b[1;32m~\\anaconda3\\Lib\\site-packages\\seaborn\\_core\\data.py:232\u001b[0m, in \u001b[0;36mPlotData._assign_variables\u001b[1;34m(self, data, variables)\u001b[0m\n\u001b[0;32m    230\u001b[0m     \u001b[38;5;28;01melse\u001b[39;00m:\n\u001b[0;32m    231\u001b[0m         err \u001b[38;5;241m+\u001b[39m\u001b[38;5;241m=\u001b[39m \u001b[38;5;124m\"\u001b[39m\u001b[38;5;124mAn entry with this name does not appear in `data`.\u001b[39m\u001b[38;5;124m\"\u001b[39m\n\u001b[1;32m--> 232\u001b[0m     \u001b[38;5;28;01mraise\u001b[39;00m \u001b[38;5;167;01mValueError\u001b[39;00m(err)\n\u001b[0;32m    234\u001b[0m \u001b[38;5;28;01melse\u001b[39;00m:\n\u001b[0;32m    235\u001b[0m \n\u001b[0;32m    236\u001b[0m     \u001b[38;5;66;03m# Otherwise, assume the value somehow represents data\u001b[39;00m\n\u001b[0;32m    237\u001b[0m \n\u001b[0;32m    238\u001b[0m     \u001b[38;5;66;03m# Ignore empty data structures\u001b[39;00m\n\u001b[0;32m    239\u001b[0m     \u001b[38;5;28;01mif\u001b[39;00m \u001b[38;5;28misinstance\u001b[39m(val, Sized) \u001b[38;5;129;01mand\u001b[39;00m \u001b[38;5;28mlen\u001b[39m(val) \u001b[38;5;241m==\u001b[39m \u001b[38;5;241m0\u001b[39m:\n",
      "\u001b[1;31mValueError\u001b[0m: Could not interpret value `day_of_week` for `x`. An entry with this name does not appear in `data`."
     ]
    }
   ],
   "source": [
    "#Visualizing contacted day of the week\n",
    "try:\n",
    "    sns.catplot(x = \"day_of_week\", hue=\"y\", data = df, kind=\"count\", order = ['mon', 'tue', 'wed', 'thu', 'fri'])\n",
    "except AttributeError:\n",
    "    print(\"no error\")\n",
    "plt.title(\"Day of the Week\")\n",
    "plt.show()"
   ]
  },
  {
   "cell_type": "markdown",
   "id": "442cee72-0f7f-4153-a188-ff7a5221b49b",
   "metadata": {},
   "source": [
    "## Call duration"
   ]
  },
  {
   "cell_type": "code",
   "execution_count": 155,
   "id": "24965edb-4703-4a8f-8c37-d0571830bf7d",
   "metadata": {},
   "outputs": [
    {
     "data": {
      "image/png": "[encoded data removed]",
      "text/plain": [
       "<Figure size 1300x500 with 2 Axes>"
      ]
     },
     "metadata": {},
     "output_type": "display_data"
    }
   ],
   "source": [
    "#Visualizing call duration\n",
    "fig, (ax1, ax2) = plt.subplots(nrows = 1, ncols = 2, figsize = (13, 5))\n",
    "sns.boxplot(x = 'duration', data = df, orient = 'v', ax = ax1)\n",
    "ax1.set_xlabel('Calls', fontsize=10)\n",
    "ax1.set_ylabel('Duration', fontsize=10)\n",
    "ax1.set_title('Calls Distribution', fontsize=10)\n",
    "ax1.tick_params(labelsize=10)\n",
    "\n",
    "sns.distplot(df['duration'], ax = ax2)\n",
    "sns.despine(ax = ax2)\n",
    "ax2.set_xlabel('Duration Calls', fontsize=10)\n",
    "ax2.set_ylabel('Occurence', fontsize=10)\n",
    "ax2.set_title('Duration x Ocucurence', fontsize=10)\n",
    "ax2.tick_params(labelsize=10)\n",
    "\n",
    "plt.subplots_adjust(wspace=0.5)\n",
    "plt.tight_layout() "
   ]
  },
  {
   "cell_type": "code",
   "execution_count": 157,
   "id": "d1c32c44-1431-425f-81a2-e2aae91e85b6",
   "metadata": {},
   "outputs": [
    {
     "name": "stdout",
     "output_type": "stream",
     "text": [
      "Max duration  call in minutes:   82.0\n",
      "Min duration  call in minutes:    0.0\n",
      "Mean duration call in minutes:    4.3\n",
      "STD duration  call in minutes:    4.3\n"
     ]
    }
   ],
   "source": [
    "print(\"Max duration  call in minutes:  \", round((df['duration'].max()/60),1))\n",
    "print(\"Min duration  call in minutes:   \", round((df['duration'].min()/60),1))\n",
    "print(\"Mean duration call in minutes:   \", round((df['duration'].mean()/60),1))\n",
    "print(\"STD duration  call in minutes:   \", round((df['duration'].std()/60),1))\n",
    "# Std close to the mean means that the data values are close to the mean "
   ]
  },
  {
   "cell_type": "code",
   "execution_count": 159,
   "id": "3034c6d7-cc76-4c2b-ba97-f19160a2086d",
   "metadata": {},
   "outputs": [
    {
     "name": "stdout",
     "output_type": "stream",
     "text": [
      "1º Quartile:  103.0\n",
      "2º Quartile:  180.0\n",
      "3º Quartile:  319.0\n",
      "4º Quartile:  4918.0\n",
      "Duration calls above:  643.0 are outliers\n"
     ]
    }
   ],
   "source": [
    "# Quartiles\n",
    "print('1º Quartile: ', df['duration'].quantile(q = 0.25))\n",
    "print('2º Quartile: ', df['duration'].quantile(q = 0.50))\n",
    "print('3º Quartile: ', df['duration'].quantile(q = 0.75))\n",
    "print('4º Quartile: ', df['duration'].quantile(q = 1.00))\n",
    "#Calculate the outliers:\n",
    "  # Interquartile range, IQR = Q3 - Q1\n",
    "  # lower 1.5*IQR whisker = Q1 - 1.5 * IQR \n",
    "  # Upper 1.5*IQR whisker = Q3 + 1.5 * IQR\n",
    "    \n",
    "print('Duration calls above: ', df['duration'].quantile(q = 0.75) + \n",
    "                      1.5*(df['duration'].quantile(q = 0.75) - df['duration'].quantile(q = 0.25)), 'are outliers')"
   ]
  },
  {
   "cell_type": "code",
   "execution_count": 161,
   "id": "9e131523-0318-4b58-8fb8-4b860a2e77ce",
   "metadata": {},
   "outputs": [
    {
     "data": {
      "text/html": [
       "<div>\n",
       "<style scoped>\n",
       "    .dataframe tbody tr th:only-of-type {\n",
       "        vertical-align: middle;\n",
       "    }\n",
       "\n",
       "    .dataframe tbody tr th {\n",
       "        vertical-align: top;\n",
       "    }\n",
       "\n",
       "    .dataframe thead th {\n",
       "        text-align: right;\n",
       "    }\n",
       "</style>\n",
       "<table border=\"1\" class=\"dataframe\">\n",
       "  <thead>\n",
       "    <tr style=\"text-align: right;\">\n",
       "      <th></th>\n",
       "      <th>age</th>\n",
       "      <th>job</th>\n",
       "      <th>marital</th>\n",
       "      <th>education</th>\n",
       "      <th>default</th>\n",
       "      <th>balance</th>\n",
       "      <th>housing</th>\n",
       "      <th>loan</th>\n",
       "      <th>contact</th>\n",
       "      <th>day</th>\n",
       "      <th>month</th>\n",
       "      <th>duration</th>\n",
       "      <th>campaign</th>\n",
       "      <th>pdays</th>\n",
       "      <th>previous</th>\n",
       "      <th>poutcome</th>\n",
       "      <th>y</th>\n",
       "    </tr>\n",
       "  </thead>\n",
       "  <tbody>\n",
       "    <tr>\n",
       "      <th>6424</th>\n",
       "      <td>53</td>\n",
       "      <td>4</td>\n",
       "      <td>1</td>\n",
       "      <td>0</td>\n",
       "      <td>0</td>\n",
       "      <td>351</td>\n",
       "      <td>1</td>\n",
       "      <td>0</td>\n",
       "      <td>unknown</td>\n",
       "      <td>27</td>\n",
       "      <td>may</td>\n",
       "      <td>0</td>\n",
       "      <td>4</td>\n",
       "      <td>-1</td>\n",
       "      <td>0</td>\n",
       "      <td>unknown</td>\n",
       "      <td>0</td>\n",
       "    </tr>\n",
       "    <tr>\n",
       "      <th>22937</th>\n",
       "      <td>35</td>\n",
       "      <td>9</td>\n",
       "      <td>1</td>\n",
       "      <td>1</td>\n",
       "      <td>0</td>\n",
       "      <td>5535</td>\n",
       "      <td>0</td>\n",
       "      <td>0</td>\n",
       "      <td>cellular</td>\n",
       "      <td>26</td>\n",
       "      <td>aug</td>\n",
       "      <td>0</td>\n",
       "      <td>15</td>\n",
       "      <td>-1</td>\n",
       "      <td>0</td>\n",
       "      <td>unknown</td>\n",
       "      <td>0</td>\n",
       "    </tr>\n",
       "    <tr>\n",
       "      <th>36425</th>\n",
       "      <td>31</td>\n",
       "      <td>2</td>\n",
       "      <td>1</td>\n",
       "      <td>1</td>\n",
       "      <td>0</td>\n",
       "      <td>162</td>\n",
       "      <td>1</td>\n",
       "      <td>1</td>\n",
       "      <td>cellular</td>\n",
       "      <td>11</td>\n",
       "      <td>may</td>\n",
       "      <td>0</td>\n",
       "      <td>2</td>\n",
       "      <td>-1</td>\n",
       "      <td>0</td>\n",
       "      <td>unknown</td>\n",
       "      <td>0</td>\n",
       "    </tr>\n",
       "  </tbody>\n",
       "</table>\n",
       "</div>"
      ],
      "text/plain": [
       "       age  job  marital  education  default  balance  housing  loan  \\\n",
       "6424    53    4        1          0        0      351        1     0   \n",
       "22937   35    9        1          1        0     5535        0     0   \n",
       "36425   31    2        1          1        0      162        1     1   \n",
       "\n",
       "        contact  day month  duration  campaign  pdays  previous poutcome  y  \n",
       "6424    unknown   27   may         0         4     -1         0  unknown  0  \n",
       "22937  cellular   26   aug         0        15     -1         0  unknown  0  \n",
       "36425  cellular   11   may         0         2     -1         0  unknown  0  "
      ]
     },
     "execution_count": 161,
     "metadata": {},
     "output_type": "execute_result"
    }
   ],
   "source": [
    "# Look, if the call duration is iqual to 0, then is obviously that this person didn't subscribed,  \n",
    "df[(df['duration'] == 0)]"
   ]
  },
  {
   "cell_type": "code",
   "execution_count": 163,
   "id": "69e1c6b5-e6cb-4d61-877b-73337df3e62e",
   "metadata": {},
   "outputs": [],
   "source": [
    "# THIS LINES NEED TO BE DELETED \n",
    "df=df[df[\"duration\"]!=0]"
   ]
  },
  {
   "cell_type": "code",
   "execution_count": 175,
   "id": "4106d2fe-b5e3-44c3-bf4b-2ad75c81e71a",
   "metadata": {},
   "outputs": [
    {
     "name": "stdout",
     "output_type": "stream",
     "text": [
      "Numerber of outliers:  3189\n",
      "Number of clients:  44920\n",
      "Outliers are: 7.1 %\n"
     ]
    }
   ],
   "source": [
    "print('Numerber of outliers: ', df[df['duration'] > 645.75]['duration'].count())\n",
    "print('Number of clients: ', len(df))\n",
    "#Outliers in %\n",
    "print('Outliers are:', round(df[df['duration'] > 645.75]['duration'].count()*100/len(df),2), '%')"
   ]
  },
  {
   "cell_type": "code",
   "execution_count": null,
   "id": "881ab3b4-fa5d-4f46-ab71-9721b3ee5bf3",
   "metadata": {},
   "outputs": [],
   "source": [
    "#Encoding Contact, Month and Day of the week\n",
    "from sklearn.preprocessing import LabelEncoder\n",
    "labelencoder_X = LabelEncoder()\n",
    "df['contact']     = labelencoder_X.fit_transform(df['contact']) \n",
    "df['month']       = labelencoder_X.fit_transform(df['month']) \n",
    "df['day_of_week'] = labelencoder_X.fit_transform(df['day_of_week'])"
   ]
  },
  {
   "cell_type": "code",
   "execution_count": 177,
   "id": "a4e2d34d-ae62-4679-909e-74fe4dbead56",
   "metadata": {},
   "outputs": [],
   "source": [
    "#function to creat group of ages, this helps because we have 78 differente values here\n",
    "def age(df):\n",
    "    df.loc[df['age'] <= 32, 'age'] = 1\n",
    "    df.loc[(df['age'] > 32) & (df['age'] <= 47), 'age'] = 2\n",
    "    df.loc[(df['age'] > 47) & (df['age'] <= 70), 'age'] = 3\n",
    "    df.loc[(df['age'] > 70) & (df['age'] <= 98), 'age'] = 4\n",
    "           \n",
    "    return df\n",
    "\n",
    "age(df);"
   ]
  },
  {
   "cell_type": "code",
   "execution_count": 179,
   "id": "15ef3250-3236-4f2a-b88c-70b0fd43a2de",
   "metadata": {},
   "outputs": [
    {
     "data": {
      "text/plain": [
       "array(['unknown', 'failure', 'other', 'success'], dtype=object)"
      ]
     },
     "execution_count": 179,
     "metadata": {},
     "output_type": "execute_result"
    }
   ],
   "source": [
    "df['poutcome'].unique()"
   ]
  },
  {
   "cell_type": "code",
   "execution_count": 181,
   "id": "80e00385-2392-47a0-b076-d4128c0d68b4",
   "metadata": {},
   "outputs": [],
   "source": [
    "df['poutcome'].replace(['nonexistent', 'failure', 'success'], [1,2,3], inplace  = True)"
   ]
  },
  {
   "cell_type": "code",
   "execution_count": 183,
   "id": "5d4e39b1-a0d2-40a1-843e-a1f597ba6311",
   "metadata": {},
   "outputs": [
    {
     "data": {
      "text/html": [
       "<div>\n",
       "<style scoped>\n",
       "    .dataframe tbody tr th:only-of-type {\n",
       "        vertical-align: middle;\n",
       "    }\n",
       "\n",
       "    .dataframe tbody tr th {\n",
       "        vertical-align: top;\n",
       "    }\n",
       "\n",
       "    .dataframe thead th {\n",
       "        text-align: right;\n",
       "    }\n",
       "</style>\n",
       "<table border=\"1\" class=\"dataframe\">\n",
       "  <thead>\n",
       "    <tr style=\"text-align: right;\">\n",
       "      <th></th>\n",
       "      <th>age</th>\n",
       "      <th>job</th>\n",
       "      <th>marital</th>\n",
       "      <th>education</th>\n",
       "      <th>default</th>\n",
       "      <th>balance</th>\n",
       "      <th>housing</th>\n",
       "      <th>loan</th>\n",
       "      <th>contact</th>\n",
       "      <th>day</th>\n",
       "      <th>month</th>\n",
       "      <th>duration</th>\n",
       "      <th>campaign</th>\n",
       "      <th>pdays</th>\n",
       "      <th>previous</th>\n",
       "      <th>poutcome</th>\n",
       "      <th>y</th>\n",
       "    </tr>\n",
       "  </thead>\n",
       "  <tbody>\n",
       "    <tr>\n",
       "      <th>0</th>\n",
       "      <td>3</td>\n",
       "      <td>4</td>\n",
       "      <td>1</td>\n",
       "      <td>2</td>\n",
       "      <td>0</td>\n",
       "      <td>2143</td>\n",
       "      <td>1</td>\n",
       "      <td>0</td>\n",
       "      <td>2</td>\n",
       "      <td>5</td>\n",
       "      <td>8</td>\n",
       "      <td>261</td>\n",
       "      <td>1</td>\n",
       "      <td>-1</td>\n",
       "      <td>0</td>\n",
       "      <td>unknown</td>\n",
       "      <td>0</td>\n",
       "    </tr>\n",
       "    <tr>\n",
       "      <th>1</th>\n",
       "      <td>2</td>\n",
       "      <td>9</td>\n",
       "      <td>2</td>\n",
       "      <td>1</td>\n",
       "      <td>0</td>\n",
       "      <td>29</td>\n",
       "      <td>1</td>\n",
       "      <td>0</td>\n",
       "      <td>2</td>\n",
       "      <td>5</td>\n",
       "      <td>8</td>\n",
       "      <td>151</td>\n",
       "      <td>1</td>\n",
       "      <td>-1</td>\n",
       "      <td>0</td>\n",
       "      <td>unknown</td>\n",
       "      <td>0</td>\n",
       "    </tr>\n",
       "    <tr>\n",
       "      <th>2</th>\n",
       "      <td>2</td>\n",
       "      <td>2</td>\n",
       "      <td>1</td>\n",
       "      <td>1</td>\n",
       "      <td>0</td>\n",
       "      <td>2</td>\n",
       "      <td>1</td>\n",
       "      <td>1</td>\n",
       "      <td>2</td>\n",
       "      <td>5</td>\n",
       "      <td>8</td>\n",
       "      <td>76</td>\n",
       "      <td>1</td>\n",
       "      <td>-1</td>\n",
       "      <td>0</td>\n",
       "      <td>unknown</td>\n",
       "      <td>0</td>\n",
       "    </tr>\n",
       "    <tr>\n",
       "      <th>3</th>\n",
       "      <td>2</td>\n",
       "      <td>1</td>\n",
       "      <td>1</td>\n",
       "      <td>3</td>\n",
       "      <td>0</td>\n",
       "      <td>1506</td>\n",
       "      <td>1</td>\n",
       "      <td>0</td>\n",
       "      <td>2</td>\n",
       "      <td>5</td>\n",
       "      <td>8</td>\n",
       "      <td>92</td>\n",
       "      <td>1</td>\n",
       "      <td>-1</td>\n",
       "      <td>0</td>\n",
       "      <td>unknown</td>\n",
       "      <td>0</td>\n",
       "    </tr>\n",
       "    <tr>\n",
       "      <th>5</th>\n",
       "      <td>2</td>\n",
       "      <td>4</td>\n",
       "      <td>1</td>\n",
       "      <td>2</td>\n",
       "      <td>0</td>\n",
       "      <td>231</td>\n",
       "      <td>1</td>\n",
       "      <td>0</td>\n",
       "      <td>2</td>\n",
       "      <td>5</td>\n",
       "      <td>8</td>\n",
       "      <td>139</td>\n",
       "      <td>1</td>\n",
       "      <td>-1</td>\n",
       "      <td>0</td>\n",
       "      <td>unknown</td>\n",
       "      <td>0</td>\n",
       "    </tr>\n",
       "  </tbody>\n",
       "</table>\n",
       "</div>"
      ],
      "text/plain": [
       "   age  job  marital  education  default  balance  housing  loan  contact  \\\n",
       "0    3    4        1          2        0     2143        1     0        2   \n",
       "1    2    9        2          1        0       29        1     0        2   \n",
       "2    2    2        1          1        0        2        1     1        2   \n",
       "3    2    1        1          3        0     1506        1     0        2   \n",
       "5    2    4        1          2        0      231        1     0        2   \n",
       "\n",
       "   day  month  duration  campaign  pdays  previous poutcome  y  \n",
       "0    5      8       261         1     -1         0  unknown  0  \n",
       "1    5      8       151         1     -1         0  unknown  0  \n",
       "2    5      8        76         1     -1         0  unknown  0  \n",
       "3    5      8        92         1     -1         0  unknown  0  \n",
       "5    5      8       139         1     -1         0  unknown  0  "
      ]
     },
     "execution_count": 183,
     "metadata": {},
     "output_type": "execute_result"
    }
   ],
   "source": [
    "df.head()"
   ]
  },
  {
   "cell_type": "code",
   "execution_count": 185,
   "id": "62e11d94-5acb-4c6a-a4e3-23cd7ccb903c",
   "metadata": {},
   "outputs": [
    {
     "data": {
      "text/html": [
       "<div>\n",
       "<style scoped>\n",
       "    .dataframe tbody tr th:only-of-type {\n",
       "        vertical-align: middle;\n",
       "    }\n",
       "\n",
       "    .dataframe tbody tr th {\n",
       "        vertical-align: top;\n",
       "    }\n",
       "\n",
       "    .dataframe thead th {\n",
       "        text-align: right;\n",
       "    }\n",
       "</style>\n",
       "<table border=\"1\" class=\"dataframe\">\n",
       "  <thead>\n",
       "    <tr style=\"text-align: right;\">\n",
       "      <th></th>\n",
       "      <th>age</th>\n",
       "      <th>job</th>\n",
       "      <th>marital</th>\n",
       "      <th>education</th>\n",
       "      <th>default</th>\n",
       "      <th>balance</th>\n",
       "      <th>housing</th>\n",
       "      <th>loan</th>\n",
       "      <th>contact</th>\n",
       "      <th>day</th>\n",
       "      <th>month</th>\n",
       "      <th>duration</th>\n",
       "      <th>campaign</th>\n",
       "      <th>pdays</th>\n",
       "      <th>previous</th>\n",
       "      <th>poutcome</th>\n",
       "      <th>y</th>\n",
       "    </tr>\n",
       "  </thead>\n",
       "  <tbody>\n",
       "    <tr>\n",
       "      <th>45206</th>\n",
       "      <td>3</td>\n",
       "      <td>9</td>\n",
       "      <td>1</td>\n",
       "      <td>2</td>\n",
       "      <td>0</td>\n",
       "      <td>825</td>\n",
       "      <td>0</td>\n",
       "      <td>0</td>\n",
       "      <td>0</td>\n",
       "      <td>17</td>\n",
       "      <td>9</td>\n",
       "      <td>977</td>\n",
       "      <td>3</td>\n",
       "      <td>-1</td>\n",
       "      <td>0</td>\n",
       "      <td>unknown</td>\n",
       "      <td>1</td>\n",
       "    </tr>\n",
       "    <tr>\n",
       "      <th>45207</th>\n",
       "      <td>4</td>\n",
       "      <td>5</td>\n",
       "      <td>0</td>\n",
       "      <td>0</td>\n",
       "      <td>0</td>\n",
       "      <td>1729</td>\n",
       "      <td>0</td>\n",
       "      <td>0</td>\n",
       "      <td>0</td>\n",
       "      <td>17</td>\n",
       "      <td>9</td>\n",
       "      <td>456</td>\n",
       "      <td>2</td>\n",
       "      <td>-1</td>\n",
       "      <td>0</td>\n",
       "      <td>unknown</td>\n",
       "      <td>1</td>\n",
       "    </tr>\n",
       "    <tr>\n",
       "      <th>45208</th>\n",
       "      <td>4</td>\n",
       "      <td>5</td>\n",
       "      <td>1</td>\n",
       "      <td>1</td>\n",
       "      <td>0</td>\n",
       "      <td>5715</td>\n",
       "      <td>0</td>\n",
       "      <td>0</td>\n",
       "      <td>0</td>\n",
       "      <td>17</td>\n",
       "      <td>9</td>\n",
       "      <td>1127</td>\n",
       "      <td>5</td>\n",
       "      <td>184</td>\n",
       "      <td>3</td>\n",
       "      <td>3</td>\n",
       "      <td>1</td>\n",
       "    </tr>\n",
       "    <tr>\n",
       "      <th>45209</th>\n",
       "      <td>3</td>\n",
       "      <td>1</td>\n",
       "      <td>1</td>\n",
       "      <td>1</td>\n",
       "      <td>0</td>\n",
       "      <td>668</td>\n",
       "      <td>0</td>\n",
       "      <td>0</td>\n",
       "      <td>1</td>\n",
       "      <td>17</td>\n",
       "      <td>9</td>\n",
       "      <td>508</td>\n",
       "      <td>4</td>\n",
       "      <td>-1</td>\n",
       "      <td>0</td>\n",
       "      <td>unknown</td>\n",
       "      <td>0</td>\n",
       "    </tr>\n",
       "    <tr>\n",
       "      <th>45210</th>\n",
       "      <td>2</td>\n",
       "      <td>2</td>\n",
       "      <td>1</td>\n",
       "      <td>1</td>\n",
       "      <td>0</td>\n",
       "      <td>2971</td>\n",
       "      <td>0</td>\n",
       "      <td>0</td>\n",
       "      <td>0</td>\n",
       "      <td>17</td>\n",
       "      <td>9</td>\n",
       "      <td>361</td>\n",
       "      <td>2</td>\n",
       "      <td>188</td>\n",
       "      <td>11</td>\n",
       "      <td>other</td>\n",
       "      <td>0</td>\n",
       "    </tr>\n",
       "  </tbody>\n",
       "</table>\n",
       "</div>"
      ],
      "text/plain": [
       "       age  job  marital  education  default  balance  housing  loan  contact  \\\n",
       "45206    3    9        1          2        0      825        0     0        0   \n",
       "45207    4    5        0          0        0     1729        0     0        0   \n",
       "45208    4    5        1          1        0     5715        0     0        0   \n",
       "45209    3    1        1          1        0      668        0     0        1   \n",
       "45210    2    2        1          1        0     2971        0     0        0   \n",
       "\n",
       "       day  month  duration  campaign  pdays  previous poutcome  y  \n",
       "45206   17      9       977         3     -1         0  unknown  1  \n",
       "45207   17      9       456         2     -1         0  unknown  1  \n",
       "45208   17      9      1127         5    184         3        3  1  \n",
       "45209   17      9       508         4     -1         0  unknown  0  \n",
       "45210   17      9       361         2    188        11    other  0  "
      ]
     },
     "execution_count": 185,
     "metadata": {},
     "output_type": "execute_result"
    }
   ],
   "source": [
    "df.tail()"
   ]
  },
  {
   "cell_type": "code",
   "execution_count": 187,
   "id": "07e00ecb-4539-42ff-af40-f6e1f5e70c0e",
   "metadata": {},
   "outputs": [
    {
     "data": {
      "text/plain": [
       "y\n",
       "0    39665\n",
       "1     5255\n",
       "Name: count, dtype: int64"
      ]
     },
     "execution_count": 187,
     "metadata": {},
     "output_type": "execute_result"
    }
   ],
   "source": [
    "#Y variable value counts\n",
    "df['y'].value_counts()"
   ]
  },
  {
   "cell_type": "code",
   "execution_count": 193,
   "id": "df2a37e6-0c95-4c56-afe2-9c351490545e",
   "metadata": {},
   "outputs": [],
   "source": [
    "#Splitting the dataset\n",
    "X = df.drop(columns=['y'])\n",
    "Y = df['y']\n",
    "X_train, X_test, Y_train, Y_test=train_test_split(X,Y,test_size=0.25, random_state=16)"
   ]
  },
  {
   "cell_type": "code",
   "execution_count": 205,
   "id": "45c99f2c-efe2-4928-bad5-855051db9eee",
   "metadata": {},
   "outputs": [
    {
     "ename": "ValueError",
     "evalue": "could not convert string to float: 'unknown'",
     "output_type": "error",
     "traceback": [
      "\u001b[1;31m---------------------------------------------------------------------------\u001b[0m",
      "\u001b[1;31mValueError\u001b[0m                                Traceback (most recent call last)",
      "\u001b[1;32m~\\AppData\\Local\\Temp\\ipykernel_2964\\2802414266.py\u001b[0m in \u001b[0;36m?\u001b[1;34m()\u001b[0m\n\u001b[0;32m      1\u001b[0m \u001b[1;31m#SMOTING THE DATA\u001b[0m\u001b[1;33m\u001b[0m\u001b[1;33m\u001b[0m\u001b[0m\n\u001b[0;32m      2\u001b[0m \u001b[0msm\u001b[0m \u001b[1;33m=\u001b[0m \u001b[0mSMOTE\u001b[0m\u001b[1;33m(\u001b[0m\u001b[0mrandom_state\u001b[0m\u001b[1;33m=\u001b[0m\u001b[1;36m0\u001b[0m\u001b[1;33m)\u001b[0m\u001b[1;33m\u001b[0m\u001b[1;33m\u001b[0m\u001b[0m\n\u001b[0;32m      3\u001b[0m \u001b[1;33m\u001b[0m\u001b[0m\n\u001b[1;32m----> 4\u001b[1;33m \u001b[0mX_SMOTE\u001b[0m\u001b[1;33m,\u001b[0m \u001b[0my_SMOTE\u001b[0m \u001b[1;33m=\u001b[0m \u001b[0msm\u001b[0m\u001b[1;33m.\u001b[0m\u001b[0mfit_resample\u001b[0m\u001b[1;33m(\u001b[0m\u001b[0mX_train\u001b[0m\u001b[1;33m,\u001b[0m \u001b[0mY_train\u001b[0m\u001b[1;33m)\u001b[0m\u001b[1;33m\u001b[0m\u001b[1;33m\u001b[0m\u001b[0m\n\u001b[0m\u001b[0;32m      5\u001b[0m \u001b[1;33m\u001b[0m\u001b[0m\n\u001b[0;32m      6\u001b[0m \u001b[0mpd\u001b[0m\u001b[1;33m.\u001b[0m\u001b[0mSeries\u001b[0m\u001b[1;33m(\u001b[0m\u001b[0my_SMOTE\u001b[0m\u001b[1;33m)\u001b[0m\u001b[1;33m.\u001b[0m\u001b[0mvalue_counts\u001b[0m\u001b[1;33m(\u001b[0m\u001b[1;33m)\u001b[0m\u001b[1;33m\u001b[0m\u001b[1;33m\u001b[0m\u001b[0m\n",
      "\u001b[1;32m~\\anaconda3\\Lib\\site-packages\\imblearn\\base.py\u001b[0m in \u001b[0;36m?\u001b[1;34m(self, X, y)\u001b[0m\n\u001b[0;32m    204\u001b[0m         \u001b[0my_resampled\u001b[0m \u001b[1;33m:\u001b[0m \u001b[0marray\u001b[0m\u001b[1;33m-\u001b[0m\u001b[0mlike\u001b[0m \u001b[0mof\u001b[0m \u001b[0mshape\u001b[0m \u001b[1;33m(\u001b[0m\u001b[0mn_samples_new\u001b[0m\u001b[1;33m,\u001b[0m\u001b[1;33m)\u001b[0m\u001b[1;33m\u001b[0m\u001b[1;33m\u001b[0m\u001b[0m\n\u001b[0;32m    205\u001b[0m             \u001b[0mThe\u001b[0m \u001b[0mcorresponding\u001b[0m \u001b[0mlabel\u001b[0m \u001b[0mof\u001b[0m \u001b[1;33m`\u001b[0m\u001b[0mX_resampled\u001b[0m\u001b[1;33m`\u001b[0m\u001b[1;33m.\u001b[0m\u001b[1;33m\u001b[0m\u001b[1;33m\u001b[0m\u001b[0m\n\u001b[0;32m    206\u001b[0m         \"\"\"\n\u001b[0;32m    207\u001b[0m         \u001b[0mself\u001b[0m\u001b[1;33m.\u001b[0m\u001b[0m_validate_params\u001b[0m\u001b[1;33m(\u001b[0m\u001b[1;33m)\u001b[0m\u001b[1;33m\u001b[0m\u001b[1;33m\u001b[0m\u001b[0m\n\u001b[1;32m--> 208\u001b[1;33m         \u001b[1;32mreturn\u001b[0m \u001b[0msuper\u001b[0m\u001b[1;33m(\u001b[0m\u001b[1;33m)\u001b[0m\u001b[1;33m.\u001b[0m\u001b[0mfit_resample\u001b[0m\u001b[1;33m(\u001b[0m\u001b[0mX\u001b[0m\u001b[1;33m,\u001b[0m \u001b[0my\u001b[0m\u001b[1;33m)\u001b[0m\u001b[1;33m\u001b[0m\u001b[1;33m\u001b[0m\u001b[0m\n\u001b[0m",
      "\u001b[1;32m~\\anaconda3\\Lib\\site-packages\\imblearn\\base.py\u001b[0m in \u001b[0;36m?\u001b[1;34m(self, X, y)\u001b[0m\n\u001b[0;32m    102\u001b[0m             \u001b[0mThe\u001b[0m \u001b[0mcorresponding\u001b[0m \u001b[0mlabel\u001b[0m \u001b[0mof\u001b[0m \u001b[1;33m`\u001b[0m\u001b[0mX_resampled\u001b[0m\u001b[1;33m`\u001b[0m\u001b[1;33m.\u001b[0m\u001b[1;33m\u001b[0m\u001b[1;33m\u001b[0m\u001b[0m\n\u001b[0;32m    103\u001b[0m         \"\"\"\n\u001b[0;32m    104\u001b[0m         \u001b[0mcheck_classification_targets\u001b[0m\u001b[1;33m(\u001b[0m\u001b[0my\u001b[0m\u001b[1;33m)\u001b[0m\u001b[1;33m\u001b[0m\u001b[1;33m\u001b[0m\u001b[0m\n\u001b[0;32m    105\u001b[0m         \u001b[0marrays_transformer\u001b[0m \u001b[1;33m=\u001b[0m \u001b[0mArraysTransformer\u001b[0m\u001b[1;33m(\u001b[0m\u001b[0mX\u001b[0m\u001b[1;33m,\u001b[0m \u001b[0my\u001b[0m\u001b[1;33m)\u001b[0m\u001b[1;33m\u001b[0m\u001b[1;33m\u001b[0m\u001b[0m\n\u001b[1;32m--> 106\u001b[1;33m         \u001b[0mX\u001b[0m\u001b[1;33m,\u001b[0m \u001b[0my\u001b[0m\u001b[1;33m,\u001b[0m \u001b[0mbinarize_y\u001b[0m \u001b[1;33m=\u001b[0m \u001b[0mself\u001b[0m\u001b[1;33m.\u001b[0m\u001b[0m_check_X_y\u001b[0m\u001b[1;33m(\u001b[0m\u001b[0mX\u001b[0m\u001b[1;33m,\u001b[0m \u001b[0my\u001b[0m\u001b[1;33m)\u001b[0m\u001b[1;33m\u001b[0m\u001b[1;33m\u001b[0m\u001b[0m\n\u001b[0m\u001b[0;32m    107\u001b[0m \u001b[1;33m\u001b[0m\u001b[0m\n\u001b[0;32m    108\u001b[0m         self.sampling_strategy_ = check_sampling_strategy(\n\u001b[0;32m    109\u001b[0m             \u001b[0mself\u001b[0m\u001b[1;33m.\u001b[0m\u001b[0msampling_strategy\u001b[0m\u001b[1;33m,\u001b[0m \u001b[0my\u001b[0m\u001b[1;33m,\u001b[0m \u001b[0mself\u001b[0m\u001b[1;33m.\u001b[0m\u001b[0m_sampling_type\u001b[0m\u001b[1;33m\u001b[0m\u001b[1;33m\u001b[0m\u001b[0m\n",
      "\u001b[1;32m~\\anaconda3\\Lib\\site-packages\\imblearn\\base.py\u001b[0m in \u001b[0;36m?\u001b[1;34m(self, X, y, accept_sparse)\u001b[0m\n\u001b[0;32m    157\u001b[0m     \u001b[1;32mdef\u001b[0m \u001b[0m_check_X_y\u001b[0m\u001b[1;33m(\u001b[0m\u001b[0mself\u001b[0m\u001b[1;33m,\u001b[0m \u001b[0mX\u001b[0m\u001b[1;33m,\u001b[0m \u001b[0my\u001b[0m\u001b[1;33m,\u001b[0m \u001b[0maccept_sparse\u001b[0m\u001b[1;33m=\u001b[0m\u001b[1;32mNone\u001b[0m\u001b[1;33m)\u001b[0m\u001b[1;33m:\u001b[0m\u001b[1;33m\u001b[0m\u001b[1;33m\u001b[0m\u001b[0m\n\u001b[0;32m    158\u001b[0m         \u001b[1;32mif\u001b[0m \u001b[0maccept_sparse\u001b[0m \u001b[1;32mis\u001b[0m \u001b[1;32mNone\u001b[0m\u001b[1;33m:\u001b[0m\u001b[1;33m\u001b[0m\u001b[1;33m\u001b[0m\u001b[0m\n\u001b[0;32m    159\u001b[0m             \u001b[0maccept_sparse\u001b[0m \u001b[1;33m=\u001b[0m \u001b[1;33m[\u001b[0m\u001b[1;34m\"csr\"\u001b[0m\u001b[1;33m,\u001b[0m \u001b[1;34m\"csc\"\u001b[0m\u001b[1;33m]\u001b[0m\u001b[1;33m\u001b[0m\u001b[1;33m\u001b[0m\u001b[0m\n\u001b[0;32m    160\u001b[0m         \u001b[0my\u001b[0m\u001b[1;33m,\u001b[0m \u001b[0mbinarize_y\u001b[0m \u001b[1;33m=\u001b[0m \u001b[0mcheck_target_type\u001b[0m\u001b[1;33m(\u001b[0m\u001b[0my\u001b[0m\u001b[1;33m,\u001b[0m \u001b[0mindicate_one_vs_all\u001b[0m\u001b[1;33m=\u001b[0m\u001b[1;32mTrue\u001b[0m\u001b[1;33m)\u001b[0m\u001b[1;33m\u001b[0m\u001b[1;33m\u001b[0m\u001b[0m\n\u001b[1;32m--> 161\u001b[1;33m         \u001b[0mX\u001b[0m\u001b[1;33m,\u001b[0m \u001b[0my\u001b[0m \u001b[1;33m=\u001b[0m \u001b[0mself\u001b[0m\u001b[1;33m.\u001b[0m\u001b[0m_validate_data\u001b[0m\u001b[1;33m(\u001b[0m\u001b[0mX\u001b[0m\u001b[1;33m,\u001b[0m \u001b[0my\u001b[0m\u001b[1;33m,\u001b[0m \u001b[0mreset\u001b[0m\u001b[1;33m=\u001b[0m\u001b[1;32mTrue\u001b[0m\u001b[1;33m,\u001b[0m \u001b[0maccept_sparse\u001b[0m\u001b[1;33m=\u001b[0m\u001b[0maccept_sparse\u001b[0m\u001b[1;33m)\u001b[0m\u001b[1;33m\u001b[0m\u001b[1;33m\u001b[0m\u001b[0m\n\u001b[0m\u001b[0;32m    162\u001b[0m         \u001b[1;32mreturn\u001b[0m \u001b[0mX\u001b[0m\u001b[1;33m,\u001b[0m \u001b[0my\u001b[0m\u001b[1;33m,\u001b[0m \u001b[0mbinarize_y\u001b[0m\u001b[1;33m\u001b[0m\u001b[1;33m\u001b[0m\u001b[0m\n",
      "\u001b[1;32m~\\anaconda3\\Lib\\site-packages\\sklearn\\base.py\u001b[0m in \u001b[0;36m?\u001b[1;34m(self, X, y, reset, validate_separately, cast_to_ndarray, **check_params)\u001b[0m\n\u001b[0;32m    646\u001b[0m                 \u001b[1;32mif\u001b[0m \u001b[1;34m\"estimator\"\u001b[0m \u001b[1;32mnot\u001b[0m \u001b[1;32min\u001b[0m \u001b[0mcheck_y_params\u001b[0m\u001b[1;33m:\u001b[0m\u001b[1;33m\u001b[0m\u001b[1;33m\u001b[0m\u001b[0m\n\u001b[0;32m    647\u001b[0m                     \u001b[0mcheck_y_params\u001b[0m \u001b[1;33m=\u001b[0m \u001b[1;33m{\u001b[0m\u001b[1;33m**\u001b[0m\u001b[0mdefault_check_params\u001b[0m\u001b[1;33m,\u001b[0m \u001b[1;33m**\u001b[0m\u001b[0mcheck_y_params\u001b[0m\u001b[1;33m}\u001b[0m\u001b[1;33m\u001b[0m\u001b[1;33m\u001b[0m\u001b[0m\n\u001b[0;32m    648\u001b[0m                 \u001b[0my\u001b[0m \u001b[1;33m=\u001b[0m \u001b[0mcheck_array\u001b[0m\u001b[1;33m(\u001b[0m\u001b[0my\u001b[0m\u001b[1;33m,\u001b[0m \u001b[0minput_name\u001b[0m\u001b[1;33m=\u001b[0m\u001b[1;34m\"y\"\u001b[0m\u001b[1;33m,\u001b[0m \u001b[1;33m**\u001b[0m\u001b[0mcheck_y_params\u001b[0m\u001b[1;33m)\u001b[0m\u001b[1;33m\u001b[0m\u001b[1;33m\u001b[0m\u001b[0m\n\u001b[0;32m    649\u001b[0m             \u001b[1;32melse\u001b[0m\u001b[1;33m:\u001b[0m\u001b[1;33m\u001b[0m\u001b[1;33m\u001b[0m\u001b[0m\n\u001b[1;32m--> 650\u001b[1;33m                 \u001b[0mX\u001b[0m\u001b[1;33m,\u001b[0m \u001b[0my\u001b[0m \u001b[1;33m=\u001b[0m \u001b[0mcheck_X_y\u001b[0m\u001b[1;33m(\u001b[0m\u001b[0mX\u001b[0m\u001b[1;33m,\u001b[0m \u001b[0my\u001b[0m\u001b[1;33m,\u001b[0m \u001b[1;33m**\u001b[0m\u001b[0mcheck_params\u001b[0m\u001b[1;33m)\u001b[0m\u001b[1;33m\u001b[0m\u001b[1;33m\u001b[0m\u001b[0m\n\u001b[0m\u001b[0;32m    651\u001b[0m             \u001b[0mout\u001b[0m \u001b[1;33m=\u001b[0m \u001b[0mX\u001b[0m\u001b[1;33m,\u001b[0m \u001b[0my\u001b[0m\u001b[1;33m\u001b[0m\u001b[1;33m\u001b[0m\u001b[0m\n\u001b[0;32m    652\u001b[0m \u001b[1;33m\u001b[0m\u001b[0m\n\u001b[0;32m    653\u001b[0m         \u001b[1;32mif\u001b[0m \u001b[1;32mnot\u001b[0m \u001b[0mno_val_X\u001b[0m \u001b[1;32mand\u001b[0m \u001b[0mcheck_params\u001b[0m\u001b[1;33m.\u001b[0m\u001b[0mget\u001b[0m\u001b[1;33m(\u001b[0m\u001b[1;34m\"ensure_2d\"\u001b[0m\u001b[1;33m,\u001b[0m \u001b[1;32mTrue\u001b[0m\u001b[1;33m)\u001b[0m\u001b[1;33m:\u001b[0m\u001b[1;33m\u001b[0m\u001b[1;33m\u001b[0m\u001b[0m\n",
      "\u001b[1;32m~\\anaconda3\\Lib\\site-packages\\sklearn\\utils\\validation.py\u001b[0m in \u001b[0;36m?\u001b[1;34m(X, y, accept_sparse, accept_large_sparse, dtype, order, copy, force_all_finite, ensure_2d, allow_nd, multi_output, ensure_min_samples, ensure_min_features, y_numeric, estimator)\u001b[0m\n\u001b[0;32m   1259\u001b[0m         raise ValueError(\n\u001b[0;32m   1260\u001b[0m             \u001b[1;33mf\"\u001b[0m\u001b[1;33m{\u001b[0m\u001b[0mestimator_name\u001b[0m\u001b[1;33m}\u001b[0m\u001b[1;33m requires y to be passed, but the target y is None\u001b[0m\u001b[1;33m\"\u001b[0m\u001b[1;33m\u001b[0m\u001b[1;33m\u001b[0m\u001b[0m\n\u001b[0;32m   1261\u001b[0m         \u001b[1;33m)\u001b[0m\u001b[1;33m\u001b[0m\u001b[1;33m\u001b[0m\u001b[0m\n\u001b[0;32m   1262\u001b[0m \u001b[1;33m\u001b[0m\u001b[0m\n\u001b[1;32m-> 1263\u001b[1;33m     X = check_array(\n\u001b[0m\u001b[0;32m   1264\u001b[0m         \u001b[0mX\u001b[0m\u001b[1;33m,\u001b[0m\u001b[1;33m\u001b[0m\u001b[1;33m\u001b[0m\u001b[0m\n\u001b[0;32m   1265\u001b[0m         \u001b[0maccept_sparse\u001b[0m\u001b[1;33m=\u001b[0m\u001b[0maccept_sparse\u001b[0m\u001b[1;33m,\u001b[0m\u001b[1;33m\u001b[0m\u001b[1;33m\u001b[0m\u001b[0m\n\u001b[0;32m   1266\u001b[0m         \u001b[0maccept_large_sparse\u001b[0m\u001b[1;33m=\u001b[0m\u001b[0maccept_large_sparse\u001b[0m\u001b[1;33m,\u001b[0m\u001b[1;33m\u001b[0m\u001b[1;33m\u001b[0m\u001b[0m\n",
      "\u001b[1;32m~\\anaconda3\\Lib\\site-packages\\sklearn\\utils\\validation.py\u001b[0m in \u001b[0;36m?\u001b[1;34m(array, accept_sparse, accept_large_sparse, dtype, order, copy, force_all_finite, ensure_2d, allow_nd, ensure_min_samples, ensure_min_features, estimator, input_name)\u001b[0m\n\u001b[0;32m    994\u001b[0m                         \u001b[1;33m)\u001b[0m\u001b[1;33m\u001b[0m\u001b[1;33m\u001b[0m\u001b[0m\n\u001b[0;32m    995\u001b[0m                     \u001b[0marray\u001b[0m \u001b[1;33m=\u001b[0m \u001b[0mxp\u001b[0m\u001b[1;33m.\u001b[0m\u001b[0mastype\u001b[0m\u001b[1;33m(\u001b[0m\u001b[0marray\u001b[0m\u001b[1;33m,\u001b[0m \u001b[0mdtype\u001b[0m\u001b[1;33m,\u001b[0m \u001b[0mcopy\u001b[0m\u001b[1;33m=\u001b[0m\u001b[1;32mFalse\u001b[0m\u001b[1;33m)\u001b[0m\u001b[1;33m\u001b[0m\u001b[1;33m\u001b[0m\u001b[0m\n\u001b[0;32m    996\u001b[0m                 \u001b[1;32melse\u001b[0m\u001b[1;33m:\u001b[0m\u001b[1;33m\u001b[0m\u001b[1;33m\u001b[0m\u001b[0m\n\u001b[0;32m    997\u001b[0m                     \u001b[0marray\u001b[0m \u001b[1;33m=\u001b[0m \u001b[0m_asarray_with_order\u001b[0m\u001b[1;33m(\u001b[0m\u001b[0marray\u001b[0m\u001b[1;33m,\u001b[0m \u001b[0morder\u001b[0m\u001b[1;33m=\u001b[0m\u001b[0morder\u001b[0m\u001b[1;33m,\u001b[0m \u001b[0mdtype\u001b[0m\u001b[1;33m=\u001b[0m\u001b[0mdtype\u001b[0m\u001b[1;33m,\u001b[0m \u001b[0mxp\u001b[0m\u001b[1;33m=\u001b[0m\u001b[0mxp\u001b[0m\u001b[1;33m)\u001b[0m\u001b[1;33m\u001b[0m\u001b[1;33m\u001b[0m\u001b[0m\n\u001b[1;32m--> 998\u001b[1;33m             \u001b[1;32mexcept\u001b[0m \u001b[0mComplexWarning\u001b[0m \u001b[1;32mas\u001b[0m \u001b[0mcomplex_warning\u001b[0m\u001b[1;33m:\u001b[0m\u001b[1;33m\u001b[0m\u001b[1;33m\u001b[0m\u001b[0m\n\u001b[0m\u001b[0;32m    999\u001b[0m                 raise ValueError(\n\u001b[0;32m   1000\u001b[0m                     \u001b[1;34m\"Complex data not supported\\n{}\\n\"\u001b[0m\u001b[1;33m.\u001b[0m\u001b[0mformat\u001b[0m\u001b[1;33m(\u001b[0m\u001b[0marray\u001b[0m\u001b[1;33m)\u001b[0m\u001b[1;33m\u001b[0m\u001b[1;33m\u001b[0m\u001b[0m\n\u001b[0;32m   1001\u001b[0m                 \u001b[1;33m)\u001b[0m \u001b[1;32mfrom\u001b[0m \u001b[0mcomplex_warning\u001b[0m\u001b[1;33m\u001b[0m\u001b[1;33m\u001b[0m\u001b[0m\n",
      "\u001b[1;32m~\\anaconda3\\Lib\\site-packages\\sklearn\\utils\\_array_api.py\u001b[0m in \u001b[0;36m?\u001b[1;34m(array, dtype, order, copy, xp)\u001b[0m\n\u001b[0;32m    517\u001b[0m         \u001b[1;31m# Use NumPy API to support order\u001b[0m\u001b[1;33m\u001b[0m\u001b[1;33m\u001b[0m\u001b[0m\n\u001b[0;32m    518\u001b[0m         \u001b[1;32mif\u001b[0m \u001b[0mcopy\u001b[0m \u001b[1;32mis\u001b[0m \u001b[1;32mTrue\u001b[0m\u001b[1;33m:\u001b[0m\u001b[1;33m\u001b[0m\u001b[1;33m\u001b[0m\u001b[0m\n\u001b[0;32m    519\u001b[0m             \u001b[0marray\u001b[0m \u001b[1;33m=\u001b[0m \u001b[0mnumpy\u001b[0m\u001b[1;33m.\u001b[0m\u001b[0marray\u001b[0m\u001b[1;33m(\u001b[0m\u001b[0marray\u001b[0m\u001b[1;33m,\u001b[0m \u001b[0morder\u001b[0m\u001b[1;33m=\u001b[0m\u001b[0morder\u001b[0m\u001b[1;33m,\u001b[0m \u001b[0mdtype\u001b[0m\u001b[1;33m=\u001b[0m\u001b[0mdtype\u001b[0m\u001b[1;33m)\u001b[0m\u001b[1;33m\u001b[0m\u001b[1;33m\u001b[0m\u001b[0m\n\u001b[0;32m    520\u001b[0m         \u001b[1;32melse\u001b[0m\u001b[1;33m:\u001b[0m\u001b[1;33m\u001b[0m\u001b[1;33m\u001b[0m\u001b[0m\n\u001b[1;32m--> 521\u001b[1;33m             \u001b[0marray\u001b[0m \u001b[1;33m=\u001b[0m \u001b[0mnumpy\u001b[0m\u001b[1;33m.\u001b[0m\u001b[0masarray\u001b[0m\u001b[1;33m(\u001b[0m\u001b[0marray\u001b[0m\u001b[1;33m,\u001b[0m \u001b[0morder\u001b[0m\u001b[1;33m=\u001b[0m\u001b[0morder\u001b[0m\u001b[1;33m,\u001b[0m \u001b[0mdtype\u001b[0m\u001b[1;33m=\u001b[0m\u001b[0mdtype\u001b[0m\u001b[1;33m)\u001b[0m\u001b[1;33m\u001b[0m\u001b[1;33m\u001b[0m\u001b[0m\n\u001b[0m\u001b[0;32m    522\u001b[0m \u001b[1;33m\u001b[0m\u001b[0m\n\u001b[0;32m    523\u001b[0m         \u001b[1;31m# At this point array is a NumPy ndarray. We convert it to an array\u001b[0m\u001b[1;33m\u001b[0m\u001b[1;33m\u001b[0m\u001b[0m\n\u001b[0;32m    524\u001b[0m         \u001b[1;31m# container that is consistent with the input's namespace.\u001b[0m\u001b[1;33m\u001b[0m\u001b[1;33m\u001b[0m\u001b[0m\n",
      "\u001b[1;32m~\\anaconda3\\Lib\\site-packages\\pandas\\core\\generic.py\u001b[0m in \u001b[0;36m?\u001b[1;34m(self, dtype, copy)\u001b[0m\n\u001b[0;32m   2149\u001b[0m     def __array__(\n\u001b[0;32m   2150\u001b[0m         \u001b[0mself\u001b[0m\u001b[1;33m,\u001b[0m \u001b[0mdtype\u001b[0m\u001b[1;33m:\u001b[0m \u001b[0mnpt\u001b[0m\u001b[1;33m.\u001b[0m\u001b[0mDTypeLike\u001b[0m \u001b[1;33m|\u001b[0m \u001b[1;32mNone\u001b[0m \u001b[1;33m=\u001b[0m \u001b[1;32mNone\u001b[0m\u001b[1;33m,\u001b[0m \u001b[0mcopy\u001b[0m\u001b[1;33m:\u001b[0m \u001b[0mbool_t\u001b[0m \u001b[1;33m|\u001b[0m \u001b[1;32mNone\u001b[0m \u001b[1;33m=\u001b[0m \u001b[1;32mNone\u001b[0m\u001b[1;33m\u001b[0m\u001b[1;33m\u001b[0m\u001b[0m\n\u001b[0;32m   2151\u001b[0m     \u001b[1;33m)\u001b[0m \u001b[1;33m->\u001b[0m \u001b[0mnp\u001b[0m\u001b[1;33m.\u001b[0m\u001b[0mndarray\u001b[0m\u001b[1;33m:\u001b[0m\u001b[1;33m\u001b[0m\u001b[1;33m\u001b[0m\u001b[0m\n\u001b[0;32m   2152\u001b[0m         \u001b[0mvalues\u001b[0m \u001b[1;33m=\u001b[0m \u001b[0mself\u001b[0m\u001b[1;33m.\u001b[0m\u001b[0m_values\u001b[0m\u001b[1;33m\u001b[0m\u001b[1;33m\u001b[0m\u001b[0m\n\u001b[1;32m-> 2153\u001b[1;33m         \u001b[0marr\u001b[0m \u001b[1;33m=\u001b[0m \u001b[0mnp\u001b[0m\u001b[1;33m.\u001b[0m\u001b[0masarray\u001b[0m\u001b[1;33m(\u001b[0m\u001b[0mvalues\u001b[0m\u001b[1;33m,\u001b[0m \u001b[0mdtype\u001b[0m\u001b[1;33m=\u001b[0m\u001b[0mdtype\u001b[0m\u001b[1;33m)\u001b[0m\u001b[1;33m\u001b[0m\u001b[1;33m\u001b[0m\u001b[0m\n\u001b[0m\u001b[0;32m   2154\u001b[0m         if (\n\u001b[0;32m   2155\u001b[0m             \u001b[0mastype_is_view\u001b[0m\u001b[1;33m(\u001b[0m\u001b[0mvalues\u001b[0m\u001b[1;33m.\u001b[0m\u001b[0mdtype\u001b[0m\u001b[1;33m,\u001b[0m \u001b[0marr\u001b[0m\u001b[1;33m.\u001b[0m\u001b[0mdtype\u001b[0m\u001b[1;33m)\u001b[0m\u001b[1;33m\u001b[0m\u001b[1;33m\u001b[0m\u001b[0m\n\u001b[0;32m   2156\u001b[0m             \u001b[1;32mand\u001b[0m \u001b[0musing_copy_on_write\u001b[0m\u001b[1;33m(\u001b[0m\u001b[1;33m)\u001b[0m\u001b[1;33m\u001b[0m\u001b[1;33m\u001b[0m\u001b[0m\n",
      "\u001b[1;31mValueError\u001b[0m: could not convert string to float: 'unknown'"
     ]
    }
   ],
   "source": [
    "#SMOTING THE DATA\n",
    "sm = SMOTE(random_state=0)\n",
    "\n",
    "X_SMOTE, y_SMOTE = sm.fit_resample(X_train, Y_train)\n",
    "\n",
    "pd.Series(y_SMOTE).value_counts()"
   ]
  },
  {
   "cell_type": "code",
   "execution_count": 197,
   "id": "ed3b9e4f-8cce-45ad-9432-cada73f83f8b",
   "metadata": {},
   "outputs": [
    {
     "name": "stdout",
     "output_type": "stream",
     "text": [
      "<class 'pandas.core.frame.DataFrame'>\n",
      "Index: 33690 entries, 41492 to 39830\n",
      "Data columns (total 16 columns):\n",
      " #   Column     Non-Null Count  Dtype \n",
      "---  ------     --------------  ----- \n",
      " 0   age        33690 non-null  int64 \n",
      " 1   job        33690 non-null  int64 \n",
      " 2   marital    33690 non-null  int64 \n",
      " 3   education  33690 non-null  int64 \n",
      " 4   default    33690 non-null  int64 \n",
      " 5   balance    33690 non-null  int64 \n",
      " 6   housing    33690 non-null  int64 \n",
      " 7   loan       33690 non-null  int64 \n",
      " 8   contact    33690 non-null  int32 \n",
      " 9   day        33690 non-null  int64 \n",
      " 10  month      33690 non-null  int32 \n",
      " 11  duration   33690 non-null  int64 \n",
      " 12  campaign   33690 non-null  int64 \n",
      " 13  pdays      33690 non-null  int64 \n",
      " 14  previous   33690 non-null  int64 \n",
      " 15  poutcome   33690 non-null  object\n",
      "dtypes: int32(2), int64(13), object(1)\n",
      "memory usage: 4.1+ MB\n"
     ]
    }
   ],
   "source": [
    "X_train.info()\n"
   ]
  },
  {
   "cell_type": "code",
   "execution_count": null,
   "id": "169c314c-7bf4-451c-b353-d0f92d60f60a",
   "metadata": {},
   "outputs": [],
   "source": []
  },
  {
   "cell_type": "code",
   "execution_count": null,
   "id": "53cb9e9e-6aa9-4ad7-965b-e45f0a446192",
   "metadata": {},
   "outputs": [],
   "source": []
  },
  {
   "cell_type": "code",
   "execution_count": null,
   "id": "d0c0bee8-0fae-467a-807d-2f7d6f26bb98",
   "metadata": {},
   "outputs": [],
   "source": []
  },
  {
   "cell_type": "code",
   "execution_count": null,
   "id": "b71bc7ae-15cb-4091-8b75-76afd970ece9",
   "metadata": {},
   "outputs": [],
   "source": [
    "# Scaling features\n",
    "scaler = StandardScaler()\n",
    "X_train_scaled = scaler.fit_transform(X_SMOTE)\n",
    "X_test_scaled = scaler.transform(X_test)"
   ]
  },
  {
   "cell_type": "markdown",
   "id": "ae744597-7bf4-43b5-8869-1577c9034e24",
   "metadata": {},
   "source": [
    "# Task 2:-Create a predictive model which will help the bank marketing team to know which customer will buy the product."
   ]
  },
  {
   "cell_type": "markdown",
   "id": "02b770a4-e804-4ea4-b6f8-6a2c766d8b7c",
   "metadata": {},
   "source": [
    "\n",
    "## Logistic Regression"
   ]
  },
  {
   "cell_type": "code",
   "execution_count": null,
   "id": "cb25b7f0-09c0-4bb1-b941-22369e84b0dc",
   "metadata": {},
   "outputs": [],
   "source": [
    "\n",
    "from sklearn.linear_model import LogisticRegression\n",
    "# Initializing and training the Logistic Regression model\n",
    "log_reg = LogisticRegression(max_iter=1000, random_state=42)\n",
    "log_reg.fit(X_train_scaled, y_SMOTE)\n",
    "# Predicting and evaluating\n",
    "y_pred_log_reg = log_reg.predict(X_test_scaled)\n",
    "\n",
    "print(\"Logistic Regression:\")\n",
    "print(confusion_matrix(Y_test, y_pred_log_reg))\n",
    "print(classification_report(Y_test, y_pred_log_reg))"
   ]
  },
  {
   "cell_type": "code",
   "execution_count": null,
   "id": "a0af4a3f-84fc-4983-954d-c7f75f998ffd",
   "metadata": {},
   "outputs": [],
   "source": [
    "x_pred_log_reg = log_reg.predict(X_train_scaled)\n",
    "print(classification_report(y_SMOTE,x_pred_log_reg))"
   ]
  },
  {
   "cell_type": "code",
   "execution_count": null,
   "id": "3cd85b92-5c9b-4fa4-aeec-9da78604b5c0",
   "metadata": {},
   "outputs": [],
   "source": [
    "from sklearn.metrics import ConfusionMatrixDisplay\n",
    "ConfusionMatrixDisplay.from_estimator(\n",
    "    log_reg, X_test_scaled, Y_test)\n",
    "plt.show()"
   ]
  },
  {
   "cell_type": "markdown",
   "id": "29d37f47-f44f-494c-a166-64f1fed71b38",
   "metadata": {},
   "source": [
    "## SVM "
   ]
  },
  {
   "cell_type": "code",
   "execution_count": null,
   "id": "22a3fda8-9f61-4776-b1e0-879c486f7e29",
   "metadata": {},
   "outputs": [],
   "source": [
    "#Import svm model\n",
    "from sklearn import svm\n",
    "\n",
    "#Create a svm Classifier\n",
    "clf_svm = svm.SVC(kernel='linear') # Linear Kernel\n",
    "\n",
    "#Train the model using the training sets\n",
    "clf_svm.fit(X_train_scaled, y_SMOTE)\n",
    "\n",
    "#Predict the response for test dataset\n",
    "y_pred_svm = clf_svm.predict(X_test_scaled)\n"
   ]
  },
  {
   "cell_type": "code",
   "execution_count": null,
   "id": "dae7608c-3e6b-443a-a5e0-9a3598d89251",
   "metadata": {},
   "outputs": [],
   "source": [
    "#Import scikit-learn metrics module for accuracy calculation\n",
    "from sklearn import metrics\n",
    "\n",
    "print(\"SVM:\")\n",
    "print(confusion_matrix(Y_test, y_pred_svm))\n",
    "print(classification_report(Y_test, y_pred_svm))"
   ]
  },
  {
   "cell_type": "code",
   "execution_count": null,
   "id": "9322b8c8-07a0-431c-83bd-4bb3733ffd6a",
   "metadata": {},
   "outputs": [],
   "source": [
    "x_pred_svm_train = clf_svm.predict(X_train_scaled)\n",
    "print(classification_report(y_SMOTE,x_pred_svm_train))"
   ]
  },
  {
   "cell_type": "code",
   "execution_count": null,
   "id": "bc46568d-7cc5-4f17-82dd-58fc6fb8a845",
   "metadata": {},
   "outputs": [],
   "source": [
    "from sklearn.metrics import ConfusionMatrixDisplay\n",
    "ConfusionMatrixDisplay.from_estimator(\n",
    "    clf_svm, X_test_scaled, Y_test)\n",
    "plt.show()"
   ]
  },
  {
   "cell_type": "markdown",
   "id": "69af668b-55b8-42cc-a159-1f66f4dbd0c1",
   "metadata": {},
   "source": [
    "##  XGBOOST"
   ]
  },
  {
   "cell_type": "code",
   "execution_count": null,
   "id": "8506dff4-7d3d-48e6-a657-5cdb52017277",
   "metadata": {},
   "outputs": [],
   "source": [
    "# import XGBClassifier\n",
    "from xgboost import XGBClassifier\n",
    "# declare parameters\n",
    "params = {\n",
    "            'objective':'binary:logistic',\n",
    "            'max_depth': 4,\n",
    "            'alpha': 10,\n",
    "            'learning_rate': 1.0,\n",
    "            'n_estimators':100\n",
    "        }          \n",
    "# instantiate the classifier \n",
    "xgb_clf = XGBClassifier(**params)\n",
    "# fit the classifier to the training data\n",
    "xgb_clf.fit(X_train_scaled, y_SMOTE)"
   ]
  },
  {
   "cell_type": "code",
   "execution_count": null,
   "id": "8c691ea6-f3ce-41ff-88f2-47bbbe8ca9fa",
   "metadata": {},
   "outputs": [],
   "source": [
    "y_pred_xgb = xgb_clf.predict(X_test_scaled)"
   ]
  },
  {
   "cell_type": "code",
   "execution_count": null,
   "id": "6bcdc264-b0b4-4522-abd9-6b6570fcc394",
   "metadata": {},
   "outputs": [],
   "source": [
    "print(\"XGBoost:\")\n",
    "print(confusion_matrix(Y_test, y_pred_xgb))\n",
    "print(classification_report(Y_test, y_pred_xgb))"
   ]
  },
  {
   "cell_type": "code",
   "execution_count": null,
   "id": "b9cae333-d5ab-4cf5-b5ee-39e4822387a3",
   "metadata": {},
   "outputs": [],
   "source": [
    "x_pred_xgb = xgb_clf.predict(X_train_scaled)\n",
    "print(classification_report(y_SMOTE,x_pred_xgb))"
   ]
  },
  {
   "cell_type": "code",
   "execution_count": null,
   "id": "cf9d8583-0d3b-4bed-8c3c-38765edb5783",
   "metadata": {},
   "outputs": [],
   "source": [
    "from sklearn.metrics import ConfusionMatrixDisplay\n",
    "ConfusionMatrixDisplay.from_estimator(\n",
    "    xgb_clf, X_test_scaled, Y_test)\n",
    "plt.show()"
   ]
  },
  {
   "cell_type": "markdown",
   "id": "9be08279-e2ec-4ebf-bad5-852b31bfbda2",
   "metadata": {},
   "source": [
    "## ANN"
   ]
  },
  {
   "cell_type": "code",
   "execution_count": 169,
   "id": "2025995b-54f4-433c-9c0a-2b33278b7089",
   "metadata": {},
   "outputs": [
    {
     "ename": "NameError",
     "evalue": "name 'X_train_scaled' is not defined",
     "output_type": "error",
     "traceback": [
      "\u001b[1;31m---------------------------------------------------------------------------\u001b[0m",
      "\u001b[1;31mNameError\u001b[0m                                 Traceback (most recent call last)",
      "Cell \u001b[1;32mIn[169], line 7\u001b[0m\n\u001b[0;32m      2\u001b[0m \u001b[38;5;28;01mfrom\u001b[39;00m \u001b[38;5;21;01msklearn\u001b[39;00m\u001b[38;5;21;01m.\u001b[39;00m\u001b[38;5;21;01mneural_network\u001b[39;00m \u001b[38;5;28;01mimport\u001b[39;00m MLPClassifier\n\u001b[0;32m      3\u001b[0m model \u001b[38;5;241m=\u001b[39m MLPClassifier(hidden_layer_sizes\u001b[38;5;241m=\u001b[39m(\u001b[38;5;241m50\u001b[39m,\u001b[38;5;241m25\u001b[39m),activation\u001b[38;5;241m=\u001b[39m\u001b[38;5;124m'\u001b[39m\u001b[38;5;124mrelu\u001b[39m\u001b[38;5;124m'\u001b[39m,solver\u001b[38;5;241m=\u001b[39m\u001b[38;5;124m'\u001b[39m\u001b[38;5;124madam\u001b[39m\u001b[38;5;124m'\u001b[39m,\n\u001b[0;32m      4\u001b[0m                        learning_rate_init\u001b[38;5;241m=\u001b[39m\u001b[38;5;241m0.1\u001b[39m,alpha\u001b[38;5;241m=\u001b[39m\u001b[38;5;241m0.01\u001b[39m,\n\u001b[0;32m      5\u001b[0m                        max_iter\u001b[38;5;241m=\u001b[39m\u001b[38;5;241m1000\u001b[39m,n_iter_no_change\u001b[38;5;241m=\u001b[39m\u001b[38;5;241m100\u001b[39m,\n\u001b[0;32m      6\u001b[0m                        random_state\u001b[38;5;241m=\u001b[39m\u001b[38;5;241m10\u001b[39m,verbose\u001b[38;5;241m=\u001b[39m\u001b[38;5;28;01mTrue\u001b[39;00m,batch_size\u001b[38;5;241m=\u001b[39m\u001b[38;5;241m100\u001b[39m)        \u001b[38;5;66;03m## model object creation max_iter=Stopping parameter\u001b[39;00m\n\u001b[1;32m----> 7\u001b[0m model\u001b[38;5;241m.\u001b[39mfit(X_train_scaled,y_SMOTE)\n",
      "\u001b[1;31mNameError\u001b[0m: name 'X_train_scaled' is not defined"
     ]
    }
   ],
   "source": [
    "## ANN model creation\n",
    "from sklearn.neural_network import MLPClassifier\n",
    "model = MLPClassifier(hidden_layer_sizes=(50,25),activation='relu',solver='adam',\n",
    "                       learning_rate_init=0.1,alpha=0.01,\n",
    "                       max_iter=1000,n_iter_no_change=100,\n",
    "                       random_state=10,verbose=True,batch_size=100)        ## model object creation max_iter=Stopping parameter\n",
    "model.fit(X_train_scaled,y_SMOTE)  "
   ]
  },
  {
   "cell_type": "code",
   "execution_count": null,
   "id": "26e64f83-5e93-42a2-b64a-89840f220891",
   "metadata": {},
   "outputs": [],
   "source": [
    "#y_predict_proba = model.predict_proba(X_test)        ## predicting the probability of class\n",
    "\n",
    "y_predict = model.predict(X_test_scaled)\n",
    "y_train_predict = model.predict(X_train_scaled)"
   ]
  },
  {
   "cell_type": "code",
   "execution_count": null,
   "id": "bee3325d-ee1a-4cb0-9013-33719ae53908",
   "metadata": {},
   "outputs": [],
   "source": [
    "y_predict = model.predict(X_test_scaled)\n",
    "y_predict"
   ]
  },
  {
   "cell_type": "code",
   "execution_count": null,
   "id": "4c0e8e03-3285-44ec-9d1c-1c94f6ea7f04",
   "metadata": {},
   "outputs": [],
   "source": [
    "## Evaluating the model created\n",
    "from sklearn.metrics import accuracy_score,confusion_matrix\n",
    "print(\"Train accuracy :\",accuracy_score(y_SMOTE,y_train_predict))\n",
    "print(\"Test accuracy :\",accuracy_score(Y_test,y_predict))"
   ]
  },
  {
   "cell_type": "code",
   "execution_count": null,
   "id": "16b55a3c-877d-4808-a947-4a4a8cd67ce8",
   "metadata": {},
   "outputs": [],
   "source": [
    "## getting the confusion matrix\n",
    "pd.crosstab(y_predict,Y_test)"
   ]
  },
  {
   "cell_type": "code",
   "execution_count": null,
   "id": "3929069e-2b80-4f0a-9723-869d779e6f0e",
   "metadata": {},
   "outputs": [],
   "source": [
    "## getting classification report\n",
    "from sklearn.metrics import classification_report\n",
    "print(classification_report(Y_test,y_predict))"
   ]
  },
  {
   "cell_type": "code",
   "execution_count": null,
   "id": "25d85e5a-ed71-48ec-8a8c-fad117debb70",
   "metadata": {},
   "outputs": [],
   "source": [
    "from sklearn.metrics import classification_report\n",
    "print(classification_report(y_SMOTE,y_train_predict))"
   ]
  },
  {
   "cell_type": "code",
   "execution_count": null,
   "id": "49997258-059d-4a23-ac2b-b32afa592882",
   "metadata": {},
   "outputs": [],
   "source": [
    "from sklearn.metrics import ConfusionMatrixDisplay\n",
    "ConfusionMatrixDisplay.from_estimator(\n",
    "    model, X_test_scaled, Y_test)\n",
    "plt.show()"
   ]
  },
  {
   "cell_type": "markdown",
   "id": "eccfafd2-e108-4057-a1b1-d2c933c50e57",
   "metadata": {},
   "source": [
    "## Decision Tree"
   ]
  },
  {
   "cell_type": "code",
   "execution_count": 167,
   "id": "47cdbaae-c70d-42b0-8749-f8b6363485a1",
   "metadata": {},
   "outputs": [
    {
     "ename": "NameError",
     "evalue": "name 'X_train_scaled' is not defined",
     "output_type": "error",
     "traceback": [
      "\u001b[1;31m---------------------------------------------------------------------------\u001b[0m",
      "\u001b[1;31mNameError\u001b[0m                                 Traceback (most recent call last)",
      "Cell \u001b[1;32mIn[167], line 3\u001b[0m\n\u001b[0;32m      1\u001b[0m \u001b[38;5;66;03m# Initializing and training the Decision Tree model\u001b[39;00m\n\u001b[0;32m      2\u001b[0m dt_model \u001b[38;5;241m=\u001b[39m DecisionTreeClassifier(random_state\u001b[38;5;241m=\u001b[39m\u001b[38;5;241m42\u001b[39m)\n\u001b[1;32m----> 3\u001b[0m dt_model\u001b[38;5;241m.\u001b[39mfit(X_train_scaled, y_SMOTE)\n\u001b[0;32m      4\u001b[0m \u001b[38;5;66;03m# Predicting and evaluating\u001b[39;00m\n\u001b[0;32m      5\u001b[0m y_pred_dt \u001b[38;5;241m=\u001b[39m dt_model\u001b[38;5;241m.\u001b[39mpredict(X_test_scaled)\n",
      "\u001b[1;31mNameError\u001b[0m: name 'X_train_scaled' is not defined"
     ]
    }
   ],
   "source": [
    "# Initializing and training the Decision Tree model\n",
    "dt_model = DecisionTreeClassifier(random_state=42)\n",
    "dt_model.fit(X_train_scaled, y_SMOTE)\n",
    "# Predicting and evaluating\n",
    "y_pred_dt = dt_model.predict(X_test_scaled)\n",
    "print(\"Decision Tree:\")\n",
    "print(confusion_matrix(Y_test, y_pred_dt))\n",
    "print(classification_report(Y_test, y_pred_dt))"
   ]
  },
  {
   "cell_type": "code",
   "execution_count": null,
   "id": "6a57ef5f-b433-4b03-9e13-f8ba7095b8bf",
   "metadata": {},
   "outputs": [],
   "source": [
    "x_pred_dt_train = dt_model.predict(X_train_scaled)\n",
    "print(classification_report(y_SMOTE,x_pred_dt_train))"
   ]
  },
  {
   "cell_type": "code",
   "execution_count": null,
   "id": "234a37ea-8236-4889-a416-f454adac9b9c",
   "metadata": {},
   "outputs": [],
   "source": [
    "#Define hyperparameters for Decision tree\n",
    "\n",
    "dt_params = {'criterion':['gini','entropy'],\n",
    "            'splitter':['best','random'],\n",
    "             'max_depth': [None,10, 20, 30],\n",
    "             'min_samples_leaf':[1,2,4]\n",
    "            }"
   ]
  },
  {
   "cell_type": "code",
   "execution_count": null,
   "id": "aa5322ce-3681-4491-b0d0-56f87a100994",
   "metadata": {},
   "outputs": [],
   "source": [
    "# Perform Grid Search for Decision Tree\n",
    "dt_grid_search = GridSearchCV(estimator=DecisionTreeClassifier(random_state=42),\n",
    "                              param_grid=dt_params, cv=5)\n",
    "dt_grid_search.fit(X_train_scaled, y_SMOTE)"
   ]
  },
  {
   "cell_type": "code",
   "execution_count": null,
   "id": "f1531d0e-540a-418b-b24d-a35fd2f233ed",
   "metadata": {},
   "outputs": [],
   "source": [
    "dt_grid_search.cv_results_"
   ]
  },
  {
   "cell_type": "code",
   "execution_count": null,
   "id": "96118dd9-d98d-40f2-a06a-49c389f6d8a0",
   "metadata": {},
   "outputs": [],
   "source": [
    "tuning_result_dt_gs = pd.DataFrame(dt_grid_search.cv_results_)\n",
    "tuning_result_dt_gs"
   ]
  },
  {
   "cell_type": "code",
   "execution_count": null,
   "id": "8ae3f65c-8045-4737-989e-48dbde84bcaf",
   "metadata": {},
   "outputs": [],
   "source": [
    "dt_grid_search.best_params_"
   ]
  },
  {
   "cell_type": "code",
   "execution_count": null,
   "id": "6c0f2dec-5a96-436c-8de9-f98a4ce7e1f2",
   "metadata": {},
   "outputs": [],
   "source": [
    "# Decision Tree and Grid Search\n",
    "y_pred_dt_gs = dt_grid_search.predict(X_test_scaled)\n",
    "print(\"\\nDecision Tree Grid Search Performance:\")\n",
    "print(\"Accuracy:\", accuracy_score(Y_test, y_pred_dt_gs))\n",
    "print(\"Classification Report:\")\n",
    "print(classification_report(Y_test, y_pred_dt_gs))"
   ]
  },
  {
   "cell_type": "code",
   "execution_count": null,
   "id": "3681890d-a89a-44ac-9875-6980d6ee9436",
   "metadata": {},
   "outputs": [],
   "source": [
    "x_pred_dt_train_gs = dt_grid_search.predict(X_train_scaled)\n",
    "print(classification_report(y_SMOTE,x_pred_dt_train_gs))"
   ]
  },
  {
   "cell_type": "code",
   "execution_count": null,
   "id": "8f48c2f0-f6a3-4d98-9f5d-9da6ea3a0b8b",
   "metadata": {},
   "outputs": [],
   "source": [
    "from sklearn.metrics import ConfusionMatrixDisplay\n",
    "ConfusionMatrixDisplay.from_estimator(\n",
    "    dt_grid_search, X_test_scaled, Y_test)\n",
    "plt.show()"
   ]
  },
  {
   "cell_type": "markdown",
   "id": "143b01e4-6da0-4ac6-afb8-004751f3d9d9",
   "metadata": {},
   "source": [
    "## Random Forest"
   ]
  },
  {
   "cell_type": "code",
   "execution_count": null,
   "id": "052670d7-a9ed-4c5e-878f-26368c94149e",
   "metadata": {},
   "outputs": [],
   "source": [
    "rf_model = RandomForestClassifier(n_estimators=100, random_state=42)\n",
    "rf_model.fit(X_train_scaled, y_SMOTE)"
   ]
  },
  {
   "cell_type": "code",
   "execution_count": null,
   "id": "e79b9c80-f94c-428c-8430-d8d1bd0fd643",
   "metadata": {},
   "outputs": [],
   "source": [
    "y_pred_rf = rf_model.predict(X_test_scaled)\n",
    "print(\"Random Forest:\")\n",
    "print(confusion_matrix(Y_test, y_pred_rf))\n",
    "print(classification_report(Y_test, y_pred_rf))"
   ]
  },
  {
   "cell_type": "code",
   "execution_count": null,
   "id": "dd030de1-923e-42c0-9294-47b45f9e2de1",
   "metadata": {},
   "outputs": [],
   "source": [
    "x_pred_rf_train = rf_model.predict(X_train_scaled)\n",
    "print(classification_report(y_SMOTE,x_pred_rf_train))"
   ]
  },
  {
   "cell_type": "code",
   "execution_count": null,
   "id": "a1f8e232-ee1a-4a80-965a-1c763fc0f9ac",
   "metadata": {},
   "outputs": [],
   "source": [
    "rf_params = { \n",
    "\t'n_estimators': [25, 50, 100, 150], \n",
    "\t'max_features': ['sqrt', 'log2', None], \n",
    "\t'max_depth': [3, 6, 9], \n",
    "\t'max_leaf_nodes': [3, 6, 9], \n",
    "} "
   ]
  },
  {
   "cell_type": "code",
   "execution_count": null,
   "id": "2d338121-3a71-4c31-9230-f1347eb26342",
   "metadata": {},
   "outputs": [],
   "source": [
    "random_search = RandomizedSearchCV(RandomForestClassifier(), \n",
    "\t\t\t\t\t\t\t\trf_params) \n",
    "random_search.fit(X_train_scaled, y_SMOTE) \n",
    "print(random_search.best_estimator_) "
   ]
  },
  {
   "cell_type": "code",
   "execution_count": null,
   "id": "73989971-8967-42e9-9511-eff796c00107",
   "metadata": {},
   "outputs": [],
   "source": [
    "model_random = RandomForestClassifier(max_depth=9, max_features='log2', max_leaf_nodes=9,\n",
    "                       n_estimators=25)\n",
    "model_random.fit(X_train_scaled, y_SMOTE) \n",
    "y_pred_rand =model_random.predict(X_test_scaled) \n",
    "print(classification_report(y_pred_rand, Y_test)) "
   ]
  },
  {
   "cell_type": "code",
   "execution_count": 132,
   "id": "4cafb6b8-0644-4d0d-b978-14b0e6384b73",
   "metadata": {},
   "outputs": [
    {
     "ename": "NameError",
     "evalue": "name 'model_random' is not defined",
     "output_type": "error",
     "traceback": [
      "\u001b[1;31m---------------------------------------------------------------------------\u001b[0m",
      "\u001b[1;31mNameError\u001b[0m                                 Traceback (most recent call last)",
      "Cell \u001b[1;32mIn[132], line 1\u001b[0m\n\u001b[1;32m----> 1\u001b[0m x_pred_rf_train_random \u001b[38;5;241m=\u001b[39m model_random\u001b[38;5;241m.\u001b[39mpredict(X_train_scaled)\n\u001b[0;32m      2\u001b[0m \u001b[38;5;28mprint\u001b[39m(classification_report(y_SMOTE,x_pred_rf_train_random))\n",
      "\u001b[1;31mNameError\u001b[0m: name 'model_random' is not defined"
     ]
    }
   ],
   "source": [
    "x_pred_rf_train_random = model_random.predict(X_train_scaled)\n",
    "print(classification_report(y_SMOTE,x_pred_rf_train_random))"
   ]
  },
  {
   "cell_type": "code",
   "execution_count": null,
   "id": "33fbfc25-0527-4b99-98c1-e614ec1bfe43",
   "metadata": {},
   "outputs": [],
   "source": [
    "from sklearn.metrics import ConfusionMatrixDisplay\n",
    "ConfusionMatrixDisplay.from_estimator(\n",
    "    model_random, X_test_scaled, Y_test)\n",
    "plt.show()"
   ]
  },
  {
   "cell_type": "markdown",
   "id": "34441fdd-c42f-4dce-9ef8-9493bedeba2f",
   "metadata": {},
   "source": [
    "# Model Comparison Report\n",
    "\n",
    "## Create a report stating the performance of multiple models on this data and suggest the best model for production."
   ]
  },
  {
   "cell_type": "markdown",
   "id": "5c61b294-2356-433e-bfc0-e61c01f5d158",
   "metadata": {},
   "source": [
    "### RECALL SCORE"
   ]
  },
  {
   "cell_type": "code",
   "execution_count": null,
   "id": "16d785e7-2818-4711-8587-c539ab5b3af4",
   "metadata": {},
   "outputs": [],
   "source": [
    "pd.DataFrame(data = [recall_score(Y_test,y_pred_log_reg, average='weighted'),\n",
    "recall_score(Y_test,y_pred_svm, average='weighted'),\n",
    "recall_score(Y_test,y_pred_xgb, average='weighted'),\n",
    "recall_score(Y_test,y_predict, average='weighted'),\n",
    "recall_score(Y_test,y_pred_dt_gs, average='weighted'),\n",
    "recall_score(Y_test,y_pred_rand, average='weighted')],index=['Logistic','SVM','XGB','ANN','DT','RF'],         \n",
    "columns=['Recall Score']).sort_values(by='Recall Score',ascending=False)\n",
    "#print(dt_plotting_)"
   ]
  },
  {
   "cell_type": "markdown",
   "id": "317d5de5-104f-4372-b495-224a519b954c",
   "metadata": {},
   "source": [
    "### ROC SCORE"
   ]
  },
  {
   "cell_type": "code",
   "execution_count": null,
   "id": "ab04e340-5a4e-49a7-8ec4-47744954917a",
   "metadata": {},
   "outputs": [],
   "source": [
    "from sklearn.metrics import roc_auc_score\n",
    "pd.DataFrame(data = [roc_auc_score(Y_test,log_reg.predict_proba(X_test_scaled)[:,1]),\n",
    "                     roc_auc_score(Y_test,xgb_clf.predict_proba(X_test_scaled)[:,1]),\n",
    "                     roc_auc_score(Y_test,model.predict_proba(X_test_scaled)[:,1]),\n",
    "                     roc_auc_score(Y_test,dt_grid_search.predict_proba(X_test_scaled)[:,1]),\n",
    "                     roc_auc_score(Y_test,model_random.predict_proba(X_test_scaled)[:,1])],index=['Logistic','XGB','ANN','DT','RF'],         \n",
    "columns=['ROC SCORE']).sort_values(by='ROC SCORE',ascending=False)\n",
    "#The ROC SCORE requires probability estimates (or at least a realistic rank-ordering), which one-class SVM doesn't really try to produce."
   ]
  },
  {
   "cell_type": "markdown",
   "id": "aa5b4c16-4cac-4c4c-a608-e78d7a9e0697",
   "metadata": {},
   "source": [
    "### After comparing multiple models, XGBoost is the best model with accuracy of 90%, f-1 score of 0.92 recall score of 0.9031 and roc score of 0.939832."
   ]
  },
  {
   "cell_type": "markdown",
   "id": "fc76b015-c7e4-4924-a37d-053d7e662c0f",
   "metadata": {},
   "source": [
    "# Task3:-Suggestions to the Bank market team to make customers buy the product."
   ]
  },
  {
   "cell_type": "markdown",
   "id": "31805527-c990-403a-8e40-43e5811dae30",
   "metadata": {},
   "source": [
    " 1)The most potential customers are in age between 25-55.\n",
    " \n",
    " 2)The customers with  admin and blue-collar job holders are more likely to buy the term deposit.\n",
    " \n",
    " 3)Married customers are potential customers \n",
    " \n",
    " ***Implement personalized messaging based on customer profiles (age, job, marital status) and past interactions (previous campaign outcomes).***\n",
    " \n",
    " 4)The customers with university or high-school degree are more likely to buy the term deposit.\n",
    " \n",
    " ***Focus on educating customers with lower financial literacy (e.g., those with basic education) about the benefits of term deposits through educational content (blogs, webinars, etc.).***\n",
    " \n",
    " 5)Use the \"campaign\" feature to adjust the frequency of contacts. Avoid over-contacting potential customers to prevent fatigue, while ensuring that enough follow-ups are made to keep interest alive.\n",
    " \n",
    " 6)Calling during the months from May to August, customers are more likely to buy the term deposit as it's end of the financial year and having bonuses in hand.\n",
    " \n",
    " 7)Calling customers on Monday and Thursday, they are more responsive.Analyze the outcomes of previous campaigns (using features like \"poutcome\") and re-target customers who showed interest but didn’t subscribe.\n",
    " \n",
    " 8)Calling customers on Cellular has more potential than telephone.Introduce multi-channel marketing strategies, including email or in-app notifications, to supplement phone call campaigns.\n",
    " \n",
    " 9)Launching campaings from the month May to August, on Mondays and Thursdays on their cellular with a gap of 20-25 days the customers are more likely to buy the term deposit.\n",
    " \n",
    "***Pay attention to external economic factors (e.g., Euribor rate, employment rate) and adjust the marketing message accordingly. For instance, during times of economic stability, emphasize the safety and guaranteed returns of term deposits.***"
   ]
  },
  {
   "cell_type": "markdown",
   "id": "0023c577-4bc2-4e3f-8aa6-a7fdbdc0fa5f",
   "metadata": {},
   "source": [
    "# CONCLUSION"
   ]
  },
  {
   "cell_type": "markdown",
   "id": "1f1eeab9-f375-4f4b-8fca-eabb1b16ea4d",
   "metadata": {},
   "source": [
    "## TASK 1\n",
    "### EDA is performed and here is the key insights and overall data analysis report.\n",
    "1.Introduction\n",
    "\n",
    "The report alanyzes customers dataset for potential customers of term deposits with 41188 datapoints having 21 features including target variable focusing on Demographical, financial, previous campaign and social economical characteristics.\n",
    "\n",
    "2.Dataset Overview\n",
    "\n",
    "Features:Dataset comprises 21 features  both numerical(10) and categorical values(11).\n",
    "\n",
    "Target Variable: y is the target variable indicating whether the customer bought the term deposit or not.\n",
    "\n",
    "3.Data Quality:\n",
    "\n",
    "Some columns have some unknown values in \"job\", \"marital\", \"default\", \"education\", \"housing\", \"loan\" columns and no null values.\n",
    "\n",
    "4.Customer Demographics\n",
    "\n",
    "Age and Job:The dataset predominantly represents individuals with age 40 and most customers are in admin jobs.\n",
    "\n",
    "Education:Most customers have a univerisity degree, indicating strong financial knowledge and  employment stability.\n",
    "\n",
    "Default, Housing and Loan:Most customers have no default or personal loans but most people have home loans.\n",
    "\n",
    "5.Insights and Recommendations:\n",
    "\n",
    "Insights:The analysis highlights the need for further exploration into factors influencing customers disparities across demographics and financial data. Strategies should focus on enhancing diversity and equity in customer data.\n",
    "\n",
    "Recommendations: Implement data preprocessing steps to handle unknown values.Conduct deeper analyses to understand the impact of variables such as education and duration of calls on y differentials.\n",
    "\n",
    "6.Conclusion\n",
    "\n",
    "In conclusion, the dataset provides valuable insights into demographical distributions, financial demographics, and previous campaign data within the Portugese Bank. Further analysis and strategic initiatives can leverage these insights to optimize sales of term deposit and help bank marketing team increase sales of term deposit through campaigns."
   ]
  },
  {
   "cell_type": "markdown",
   "id": "c653419d-ec18-48f8-8d14-5467b193bd9b",
   "metadata": {},
   "source": [
    "## TASK 2\n",
    "### model creation\n",
    "We built 6 predictive models\n",
    "1. LinearRegression\n",
    "2. SVM\n",
    "3. XGBoost\n",
    "4. ANN\n",
    "5. Decision Tree\n",
    "6. Random Forest\n",
    "   \n",
    "After evaluating the multiple models, XGBoost with accuracy of 90%, f-1 score of 0.92 recall score of 0.9031 and roc score of 0.939832 is the best model which will help the Portugese Bank Marketing Team to know the potential customers who would buy the term deposit."
   ]
  },
  {
   "cell_type": "markdown",
   "id": "eab342a7-86af-4723-a353-443b00f85eee",
   "metadata": {},
   "source": [
    "## TASK 3\n",
    "\n",
    "1. **Targeted Customer Profiles:** Focus on potential customers aged 25-55, especially those with admin or blue-collar jobs, and married individuals. Personalize messaging based on these profiles and their previous campaign outcomes to improve engagement.\n",
    "\n",
    "2. **Educational Campaigns:** Customers with higher education (university or high school) are more likely to buy term deposits. To tap into less educated segments, provide educational content such as blogs and webinars to increase financial literacy and highlight the benefits of term deposits.\n",
    "\n",
    "3. **Optimized Timing and Contact Frequency:** Conduct campaigns from May to August, particularly on Mondays and Thursdays, when customers are more responsive. Use the \"campaign\" feature to adjust the frequency of contacts, ensuring a gap of 20-25 days between calls to avoid fatigue and maximize follow-up effectiveness.\n",
    "\n",
    "4. **Multi-Channel and Economic Adjustments:** Prioritize contacting customers via cellular and supplement phone calls with email or in-app notifications. Adjust messaging based on external economic conditions, emphasizing safety and guaranteed returns during times of economic stability (e.g., low Euribor rates)."
   ]
  },
  {
   "cell_type": "markdown",
   "id": "aab19d27-11da-4ebf-b861-ff8d163e778a",
   "metadata": {},
   "source": [
    "### There are some of challenges that as a team we face are :\n",
    "\n",
    "1)Imbalanced Dataset:\n",
    "The targetvariable(y) is imbalanced, meaning there might be far fewer \"yes\" responses(customers subscribing to a term deposit) than \"no\" responses.\n",
    "To overcome this issue we used resampling techniques such as oversampling the minority class (e.g., SMOTE) and applied algorithms that handle imbalance well, such as decision trees or ensemble methods like Random Forests or Gradient Boosting and utilized metrics such as recall score, f1 score and roc score to evalute model performance instead of simple accuracy, which may be misleading.\n",
    "\n",
    "2)Non-Linear Relationships:\n",
    "Certain features, such as age or the number of contacts during a campaign, might have non-linear relationships with the target variable, making it difficult for linear models to capture these patterns.To overcome this, we used non-linear models like Decision Trees, Random Forests to capture complex interactions between features.\n",
    "\n",
    "3)Missing and \"Unknown\" Data:\n",
    "Several features include \"unknown\" values in \"age\", \"job\", \"education\", \"default\", \"housing\", \"loan\" which might represent missing data or unreported information.To overcome this we investigated why data is missing and decide whether it should be imputed, removed, or treated as a separate category and\n",
    "Used data imputation methods for numerical features (e.g., mean/mode imputation) and treat \"unknown\" as a valid category for categorical variables."
   ]
  },
  {
   "cell_type": "code",
   "execution_count": null,
   "id": "d5c8b1f2-946a-44a1-9fcc-4b0ad08e57fe",
   "metadata": {},
   "outputs": [],
   "source": []
  }
 ],
 "metadata": {
  "kernelspec": {
   "display_name": "Python 3 (ipykernel)",
   "language": "python",
   "name": "python3"
  },
  "language_info": {
   "codemirror_mode": {
    "name": "ipython",
    "version": 3
   },
   "file_extension": ".py",
   "mimetype": "text/x-python",
   "name": "python",
   "nbconvert_exporter": "python",
   "pygments_lexer": "ipython3",
   "version": "3.12.4"
  }
 },
 "nbformat": 4,
 "nbformat_minor": 5
}
